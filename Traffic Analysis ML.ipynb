{
 "cells": [
  {
   "cell_type": "markdown",
   "id": "e9bf5f2a-caaa-44ed-b401-140363ad26a1",
   "metadata": {},
   "source": [
    "# Traffic Flow Analysis"
   ]
  },
  {
   "cell_type": "code",
   "execution_count": 1,
   "id": "64111804-ff63-433c-a91a-bd4f967f7399",
   "metadata": {},
   "outputs": [],
   "source": [
    "import numpy as np\n",
    "import pandas as pd\n",
    "import matplotlib.pyplot as plt\n",
    "import seaborn as sns"
   ]
  },
  {
   "cell_type": "code",
   "execution_count": 2,
   "id": "56b3b5ba-8da9-4aa5-8014-d6b3aed4962b",
   "metadata": {},
   "outputs": [],
   "source": [
    "df=pd.read_csv(r\"C:\\Users\\Asus\\Downloads\\traffic.csv\")"
   ]
  },
  {
   "cell_type": "markdown",
   "id": "7e15608e-c654-44a3-91f3-aae903e366e8",
   "metadata": {},
   "source": [
    "# DATA ANALYSING"
   ]
  },
  {
   "cell_type": "code",
   "execution_count": 3,
   "id": "3bad0d67-cc45-4b12-a9b8-7b2af6d7d0fc",
   "metadata": {},
   "outputs": [
    {
     "data": {
      "text/html": [
       "<div>\n",
       "<style scoped>\n",
       "    .dataframe tbody tr th:only-of-type {\n",
       "        vertical-align: middle;\n",
       "    }\n",
       "\n",
       "    .dataframe tbody tr th {\n",
       "        vertical-align: top;\n",
       "    }\n",
       "\n",
       "    .dataframe thead th {\n",
       "        text-align: right;\n",
       "    }\n",
       "</style>\n",
       "<table border=\"1\" class=\"dataframe\">\n",
       "  <thead>\n",
       "    <tr style=\"text-align: right;\">\n",
       "      <th></th>\n",
       "      <th>DateTime</th>\n",
       "      <th>Junction</th>\n",
       "      <th>Vehicles</th>\n",
       "      <th>ID</th>\n",
       "    </tr>\n",
       "  </thead>\n",
       "  <tbody>\n",
       "    <tr>\n",
       "      <th>0</th>\n",
       "      <td>2015-11-01 00:00:00</td>\n",
       "      <td>1</td>\n",
       "      <td>15</td>\n",
       "      <td>20151101001</td>\n",
       "    </tr>\n",
       "    <tr>\n",
       "      <th>1</th>\n",
       "      <td>2015-11-01 01:00:00</td>\n",
       "      <td>1</td>\n",
       "      <td>13</td>\n",
       "      <td>20151101011</td>\n",
       "    </tr>\n",
       "    <tr>\n",
       "      <th>2</th>\n",
       "      <td>2015-11-01 02:00:00</td>\n",
       "      <td>1</td>\n",
       "      <td>10</td>\n",
       "      <td>20151101021</td>\n",
       "    </tr>\n",
       "    <tr>\n",
       "      <th>3</th>\n",
       "      <td>2015-11-01 03:00:00</td>\n",
       "      <td>1</td>\n",
       "      <td>7</td>\n",
       "      <td>20151101031</td>\n",
       "    </tr>\n",
       "    <tr>\n",
       "      <th>4</th>\n",
       "      <td>2015-11-01 04:00:00</td>\n",
       "      <td>1</td>\n",
       "      <td>9</td>\n",
       "      <td>20151101041</td>\n",
       "    </tr>\n",
       "    <tr>\n",
       "      <th>...</th>\n",
       "      <td>...</td>\n",
       "      <td>...</td>\n",
       "      <td>...</td>\n",
       "      <td>...</td>\n",
       "    </tr>\n",
       "    <tr>\n",
       "      <th>48115</th>\n",
       "      <td>2017-06-30 19:00:00</td>\n",
       "      <td>4</td>\n",
       "      <td>11</td>\n",
       "      <td>20170630194</td>\n",
       "    </tr>\n",
       "    <tr>\n",
       "      <th>48116</th>\n",
       "      <td>2017-06-30 20:00:00</td>\n",
       "      <td>4</td>\n",
       "      <td>30</td>\n",
       "      <td>20170630204</td>\n",
       "    </tr>\n",
       "    <tr>\n",
       "      <th>48117</th>\n",
       "      <td>2017-06-30 21:00:00</td>\n",
       "      <td>4</td>\n",
       "      <td>16</td>\n",
       "      <td>20170630214</td>\n",
       "    </tr>\n",
       "    <tr>\n",
       "      <th>48118</th>\n",
       "      <td>2017-06-30 22:00:00</td>\n",
       "      <td>4</td>\n",
       "      <td>22</td>\n",
       "      <td>20170630224</td>\n",
       "    </tr>\n",
       "    <tr>\n",
       "      <th>48119</th>\n",
       "      <td>2017-06-30 23:00:00</td>\n",
       "      <td>4</td>\n",
       "      <td>12</td>\n",
       "      <td>20170630234</td>\n",
       "    </tr>\n",
       "  </tbody>\n",
       "</table>\n",
       "<p>48120 rows × 4 columns</p>\n",
       "</div>"
      ],
      "text/plain": [
       "                  DateTime  Junction  Vehicles           ID\n",
       "0      2015-11-01 00:00:00         1        15  20151101001\n",
       "1      2015-11-01 01:00:00         1        13  20151101011\n",
       "2      2015-11-01 02:00:00         1        10  20151101021\n",
       "3      2015-11-01 03:00:00         1         7  20151101031\n",
       "4      2015-11-01 04:00:00         1         9  20151101041\n",
       "...                    ...       ...       ...          ...\n",
       "48115  2017-06-30 19:00:00         4        11  20170630194\n",
       "48116  2017-06-30 20:00:00         4        30  20170630204\n",
       "48117  2017-06-30 21:00:00         4        16  20170630214\n",
       "48118  2017-06-30 22:00:00         4        22  20170630224\n",
       "48119  2017-06-30 23:00:00         4        12  20170630234\n",
       "\n",
       "[48120 rows x 4 columns]"
      ]
     },
     "execution_count": 3,
     "metadata": {},
     "output_type": "execute_result"
    }
   ],
   "source": [
    "df"
   ]
  },
  {
   "cell_type": "code",
   "execution_count": 4,
   "id": "68257768-e049-44bf-9d26-b22dbd58b75a",
   "metadata": {},
   "outputs": [
    {
     "data": {
      "text/html": [
       "<div>\n",
       "<style scoped>\n",
       "    .dataframe tbody tr th:only-of-type {\n",
       "        vertical-align: middle;\n",
       "    }\n",
       "\n",
       "    .dataframe tbody tr th {\n",
       "        vertical-align: top;\n",
       "    }\n",
       "\n",
       "    .dataframe thead th {\n",
       "        text-align: right;\n",
       "    }\n",
       "</style>\n",
       "<table border=\"1\" class=\"dataframe\">\n",
       "  <thead>\n",
       "    <tr style=\"text-align: right;\">\n",
       "      <th></th>\n",
       "      <th>DateTime</th>\n",
       "      <th>Junction</th>\n",
       "      <th>Vehicles</th>\n",
       "      <th>ID</th>\n",
       "    </tr>\n",
       "  </thead>\n",
       "  <tbody>\n",
       "    <tr>\n",
       "      <th>0</th>\n",
       "      <td>2015-11-01 00:00:00</td>\n",
       "      <td>1</td>\n",
       "      <td>15</td>\n",
       "      <td>20151101001</td>\n",
       "    </tr>\n",
       "    <tr>\n",
       "      <th>1</th>\n",
       "      <td>2015-11-01 01:00:00</td>\n",
       "      <td>1</td>\n",
       "      <td>13</td>\n",
       "      <td>20151101011</td>\n",
       "    </tr>\n",
       "    <tr>\n",
       "      <th>2</th>\n",
       "      <td>2015-11-01 02:00:00</td>\n",
       "      <td>1</td>\n",
       "      <td>10</td>\n",
       "      <td>20151101021</td>\n",
       "    </tr>\n",
       "    <tr>\n",
       "      <th>3</th>\n",
       "      <td>2015-11-01 03:00:00</td>\n",
       "      <td>1</td>\n",
       "      <td>7</td>\n",
       "      <td>20151101031</td>\n",
       "    </tr>\n",
       "    <tr>\n",
       "      <th>4</th>\n",
       "      <td>2015-11-01 04:00:00</td>\n",
       "      <td>1</td>\n",
       "      <td>9</td>\n",
       "      <td>20151101041</td>\n",
       "    </tr>\n",
       "  </tbody>\n",
       "</table>\n",
       "</div>"
      ],
      "text/plain": [
       "              DateTime  Junction  Vehicles           ID\n",
       "0  2015-11-01 00:00:00         1        15  20151101001\n",
       "1  2015-11-01 01:00:00         1        13  20151101011\n",
       "2  2015-11-01 02:00:00         1        10  20151101021\n",
       "3  2015-11-01 03:00:00         1         7  20151101031\n",
       "4  2015-11-01 04:00:00         1         9  20151101041"
      ]
     },
     "execution_count": 4,
     "metadata": {},
     "output_type": "execute_result"
    }
   ],
   "source": [
    "df.head()"
   ]
  },
  {
   "cell_type": "code",
   "execution_count": 5,
   "id": "250f844e-4c77-460b-9ffd-105a71801689",
   "metadata": {},
   "outputs": [
    {
     "data": {
      "text/html": [
       "<div>\n",
       "<style scoped>\n",
       "    .dataframe tbody tr th:only-of-type {\n",
       "        vertical-align: middle;\n",
       "    }\n",
       "\n",
       "    .dataframe tbody tr th {\n",
       "        vertical-align: top;\n",
       "    }\n",
       "\n",
       "    .dataframe thead th {\n",
       "        text-align: right;\n",
       "    }\n",
       "</style>\n",
       "<table border=\"1\" class=\"dataframe\">\n",
       "  <thead>\n",
       "    <tr style=\"text-align: right;\">\n",
       "      <th></th>\n",
       "      <th>DateTime</th>\n",
       "      <th>Junction</th>\n",
       "      <th>Vehicles</th>\n",
       "      <th>ID</th>\n",
       "    </tr>\n",
       "  </thead>\n",
       "  <tbody>\n",
       "    <tr>\n",
       "      <th>48115</th>\n",
       "      <td>2017-06-30 19:00:00</td>\n",
       "      <td>4</td>\n",
       "      <td>11</td>\n",
       "      <td>20170630194</td>\n",
       "    </tr>\n",
       "    <tr>\n",
       "      <th>48116</th>\n",
       "      <td>2017-06-30 20:00:00</td>\n",
       "      <td>4</td>\n",
       "      <td>30</td>\n",
       "      <td>20170630204</td>\n",
       "    </tr>\n",
       "    <tr>\n",
       "      <th>48117</th>\n",
       "      <td>2017-06-30 21:00:00</td>\n",
       "      <td>4</td>\n",
       "      <td>16</td>\n",
       "      <td>20170630214</td>\n",
       "    </tr>\n",
       "    <tr>\n",
       "      <th>48118</th>\n",
       "      <td>2017-06-30 22:00:00</td>\n",
       "      <td>4</td>\n",
       "      <td>22</td>\n",
       "      <td>20170630224</td>\n",
       "    </tr>\n",
       "    <tr>\n",
       "      <th>48119</th>\n",
       "      <td>2017-06-30 23:00:00</td>\n",
       "      <td>4</td>\n",
       "      <td>12</td>\n",
       "      <td>20170630234</td>\n",
       "    </tr>\n",
       "  </tbody>\n",
       "</table>\n",
       "</div>"
      ],
      "text/plain": [
       "                  DateTime  Junction  Vehicles           ID\n",
       "48115  2017-06-30 19:00:00         4        11  20170630194\n",
       "48116  2017-06-30 20:00:00         4        30  20170630204\n",
       "48117  2017-06-30 21:00:00         4        16  20170630214\n",
       "48118  2017-06-30 22:00:00         4        22  20170630224\n",
       "48119  2017-06-30 23:00:00         4        12  20170630234"
      ]
     },
     "execution_count": 5,
     "metadata": {},
     "output_type": "execute_result"
    }
   ],
   "source": [
    "df.tail()"
   ]
  },
  {
   "cell_type": "code",
   "execution_count": 7,
   "id": "b868d124-a947-4166-87f6-c1eda9a35896",
   "metadata": {},
   "outputs": [
    {
     "data": {
      "text/plain": [
       "(48120, 4)"
      ]
     },
     "execution_count": 7,
     "metadata": {},
     "output_type": "execute_result"
    }
   ],
   "source": [
    "df.shape"
   ]
  },
  {
   "cell_type": "code",
   "execution_count": 8,
   "id": "8d5f4d3e-2b93-4b75-9ae2-194278eee21e",
   "metadata": {},
   "outputs": [
    {
     "data": {
      "text/plain": [
       "Index(['DateTime', 'Junction', 'Vehicles', 'ID'], dtype='object')"
      ]
     },
     "execution_count": 8,
     "metadata": {},
     "output_type": "execute_result"
    }
   ],
   "source": [
    "df.columns"
   ]
  },
  {
   "cell_type": "code",
   "execution_count": 10,
   "id": "f281527d-d4b5-4ada-9d36-81042fbeb823",
   "metadata": {},
   "outputs": [
    {
     "data": {
      "text/plain": [
       "DateTime    object\n",
       "Junction     int64\n",
       "Vehicles     int64\n",
       "ID           int64\n",
       "dtype: object"
      ]
     },
     "execution_count": 10,
     "metadata": {},
     "output_type": "execute_result"
    }
   ],
   "source": [
    "df.dtypes"
   ]
  },
  {
   "cell_type": "code",
   "execution_count": 11,
   "id": "381ff835-ed0c-497b-a8b0-d08e374684a4",
   "metadata": {},
   "outputs": [
    {
     "data": {
      "text/plain": [
       "DateTime    0\n",
       "Junction    0\n",
       "Vehicles    0\n",
       "ID          0\n",
       "dtype: int64"
      ]
     },
     "execution_count": 11,
     "metadata": {},
     "output_type": "execute_result"
    }
   ],
   "source": [
    "df.isnull().sum()"
   ]
  },
  {
   "cell_type": "markdown",
   "id": "90580aa5-fdaf-437d-a043-b9058c4ab627",
   "metadata": {},
   "source": [
    "# DATA CLEANING"
   ]
  },
  {
   "cell_type": "code",
   "execution_count": 28,
   "id": "4170637f-d22e-4706-b16e-8161a365f491",
   "metadata": {},
   "outputs": [
    {
     "data": {
      "text/plain": [
       "Text(0.5, 1.0, 'ID')"
      ]
     },
     "execution_count": 28,
     "metadata": {},
     "output_type": "execute_result"
    },
    {
     "data": {
      "image/png": "[encoded data removed]",
      "text/plain": [
       "<Figure size 640x480 with 1 Axes>"
      ]
     },
     "metadata": {},
     "output_type": "display_data"
    }
   ],
   "source": [
    "plt.boxplot(df['ID'])\n",
    "plt.title('ID')"
   ]
  },
  {
   "cell_type": "code",
   "execution_count": 19,
   "id": "7eacfddd-9388-42c4-937b-777147677c4c",
   "metadata": {},
   "outputs": [
    {
     "data": {
      "text/plain": [
       "Text(0.5, 1.0, 'Vehicles')"
      ]
     },
     "execution_count": 19,
     "metadata": {},
     "output_type": "execute_result"
    },
    {
     "data": {
      "image/png": "[encoded data removed]",
      "text/plain": [
       "<Figure size 640x480 with 1 Axes>"
      ]
     },
     "metadata": {},
     "output_type": "display_data"
    }
   ],
   "source": [
    "plt.boxplot(df['Vehicles'])\n",
    "plt.title('Vehicles')"
   ]
  },
  {
   "cell_type": "code",
   "execution_count": 29,
   "id": "1fdff336-c942-4329-9695-27df5af42b4e",
   "metadata": {},
   "outputs": [
    {
     "name": "stdout",
     "output_type": "stream",
     "text": [
      "20160416017.0\n",
      "20160930037.0\n",
      "20170225162.5\n"
     ]
    }
   ],
   "source": [
    "Q1=np.percentile(df['ID'],25,interpolation='midpoint')\n",
    "Q2=np.percentile(df['ID'],50,interpolation='midpoint')\n",
    "Q3=np.percentile(df['ID'],75,interpolation='midpoint')\n",
    "print(Q1)\n",
    "print(Q2)\n",
    "print(Q3)"
   ]
  },
  {
   "cell_type": "code",
   "execution_count": 30,
   "id": "236501e2-5f51-4036-bd26-027c52d5acf7",
   "metadata": {},
   "outputs": [
    {
     "name": "stdout",
     "output_type": "stream",
     "text": [
      "9809145.5\n"
     ]
    }
   ],
   "source": [
    "IQR=Q3-Q1\n",
    "print(IQR)"
   ]
  },
  {
   "cell_type": "code",
   "execution_count": 31,
   "id": "8a65bed2-4f87-4ac0-8742-ef831ebd132b",
   "metadata": {},
   "outputs": [
    {
     "name": "stdout",
     "output_type": "stream",
     "text": [
      "20184938880.75\n",
      "20145702298.75\n"
     ]
    }
   ],
   "source": [
    "upper_limit=Q3+1.5*IQR\n",
    "lower_limit=Q1-1.5*IQR\n",
    "print(upper_limit)\n",
    "print(lower_limit)"
   ]
  },
  {
   "cell_type": "code",
   "execution_count": 32,
   "id": "7af8a88f-ebbc-4d0a-8921-6f224604b1c0",
   "metadata": {},
   "outputs": [
    {
     "data": {
      "text/plain": [
       "[20151101001,\n",
       " 20151101011,\n",
       " 20151101021,\n",
       " 20151101031,\n",
       " 20151101041,\n",
       " 20151101051,\n",
       " 20151101061,\n",
       " 20151101071,\n",
       " 20151101081,\n",
       " 20151101091,\n",
       " 20151101101,\n",
       " 20151101111,\n",
       " 20151101121,\n",
       " 20151101131,\n",
       " 20151101141,\n",
       " 20151101151,\n",
       " 20151101161,\n",
       " 20151101171,\n",
       " 20151101181,\n",
       " 20151101191,\n",
       " 20151101201,\n",
       " 20151101211,\n",
       " 20151101221,\n",
       " 20151101231,\n",
       " 20151102001,\n",
       " 20151102011,\n",
       " 20151102021,\n",
       " 20151102031,\n",
       " 20151102041,\n",
       " 20151102051,\n",
       " 20151102061,\n",
       " 20151102071,\n",
       " 20151102081,\n",
       " 20151102091,\n",
       " 20151102101,\n",
       " 20151102111,\n",
       " 20151102121,\n",
       " 20151102131,\n",
       " 20151102141,\n",
       " 20151102151,\n",
       " 20151102161,\n",
       " 20151102171,\n",
       " 20151102181,\n",
       " 20151102191,\n",
       " 20151102201,\n",
       " 20151102211,\n",
       " 20151102221,\n",
       " 20151102231,\n",
       " 20151103001,\n",
       " 20151103011,\n",
       " 20151103021,\n",
       " 20151103031,\n",
       " 20151103041,\n",
       " 20151103051,\n",
       " 20151103061,\n",
       " 20151103071,\n",
       " 20151103081,\n",
       " 20151103091,\n",
       " 20151103101,\n",
       " 20151103111,\n",
       " 20151103121,\n",
       " 20151103131,\n",
       " 20151103141,\n",
       " 20151103151,\n",
       " 20151103161,\n",
       " 20151103171,\n",
       " 20151103181,\n",
       " 20151103191,\n",
       " 20151103201,\n",
       " 20151103211,\n",
       " 20151103221,\n",
       " 20151103231,\n",
       " 20151104001,\n",
       " 20151104011,\n",
       " 20151104021,\n",
       " 20151104031,\n",
       " 20151104041,\n",
       " 20151104051,\n",
       " 20151104061,\n",
       " 20151104071,\n",
       " 20151104081,\n",
       " 20151104091,\n",
       " 20151104101,\n",
       " 20151104111,\n",
       " 20151104121,\n",
       " 20151104131,\n",
       " 20151104141,\n",
       " 20151104151,\n",
       " 20151104161,\n",
       " 20151104171,\n",
       " 20151104181,\n",
       " 20151104191,\n",
       " 20151104201,\n",
       " 20151104211,\n",
       " 20151104221,\n",
       " 20151104231,\n",
       " 20151105001,\n",
       " 20151105011,\n",
       " 20151105021,\n",
       " 20151105031,\n",
       " 20151105041,\n",
       " 20151105051,\n",
       " 20151105061,\n",
       " 20151105071,\n",
       " 20151105081,\n",
       " 20151105091,\n",
       " 20151105101,\n",
       " 20151105111,\n",
       " 20151105121,\n",
       " 20151105131,\n",
       " 20151105141,\n",
       " 20151105151,\n",
       " 20151105161,\n",
       " 20151105171,\n",
       " 20151105181,\n",
       " 20151105191,\n",
       " 20151105201,\n",
       " 20151105211,\n",
       " 20151105221,\n",
       " 20151105231,\n",
       " 20151106001,\n",
       " 20151106011,\n",
       " 20151106021,\n",
       " 20151106031,\n",
       " 20151106041,\n",
       " 20151106051,\n",
       " 20151106061,\n",
       " 20151106071,\n",
       " 20151106081,\n",
       " 20151106091,\n",
       " 20151106101,\n",
       " 20151106111,\n",
       " 20151106121,\n",
       " 20151106131,\n",
       " 20151106141,\n",
       " 20151106151,\n",
       " 20151106161,\n",
       " 20151106171,\n",
       " 20151106181,\n",
       " 20151106191,\n",
       " 20151106201,\n",
       " 20151106211,\n",
       " 20151106221,\n",
       " 20151106231,\n",
       " 20151107001,\n",
       " 20151107011,\n",
       " 20151107021,\n",
       " 20151107031,\n",
       " 20151107041,\n",
       " 20151107051,\n",
       " 20151107061,\n",
       " 20151107071,\n",
       " 20151107081,\n",
       " 20151107091,\n",
       " 20151107101,\n",
       " 20151107111,\n",
       " 20151107121,\n",
       " 20151107131,\n",
       " 20151107141,\n",
       " 20151107151,\n",
       " 20151107161,\n",
       " 20151107171,\n",
       " 20151107181,\n",
       " 20151107191,\n",
       " 20151107201,\n",
       " 20151107211,\n",
       " 20151107221,\n",
       " 20151107231,\n",
       " 20151108001,\n",
       " 20151108011,\n",
       " 20151108021,\n",
       " 20151108031,\n",
       " 20151108041,\n",
       " 20151108051,\n",
       " 20151108061,\n",
       " 20151108071,\n",
       " 20151108081,\n",
       " 20151108091,\n",
       " 20151108101,\n",
       " 20151108111,\n",
       " 20151108121,\n",
       " 20151108131,\n",
       " 20151108141,\n",
       " 20151108151,\n",
       " 20151108161,\n",
       " 20151108171,\n",
       " 20151108181,\n",
       " 20151108191,\n",
       " 20151108201,\n",
       " 20151108211,\n",
       " 20151108221,\n",
       " 20151108231,\n",
       " 20151109001,\n",
       " 20151109011,\n",
       " 20151109021,\n",
       " 20151109031,\n",
       " 20151109041,\n",
       " 20151109051,\n",
       " 20151109061,\n",
       " 20151109071,\n",
       " 20151109081,\n",
       " 20151109091,\n",
       " 20151109101,\n",
       " 20151109111,\n",
       " 20151109121,\n",
       " 20151109131,\n",
       " 20151109141,\n",
       " 20151109151,\n",
       " 20151109161,\n",
       " 20151109171,\n",
       " 20151109181,\n",
       " 20151109191,\n",
       " 20151109201,\n",
       " 20151109211,\n",
       " 20151109221,\n",
       " 20151109231,\n",
       " 20151110001,\n",
       " 20151110011,\n",
       " 20151110021,\n",
       " 20151110031,\n",
       " 20151110041,\n",
       " 20151110051,\n",
       " 20151110061,\n",
       " 20151110071,\n",
       " 20151110081,\n",
       " 20151110091,\n",
       " 20151110101,\n",
       " 20151110111,\n",
       " 20151110121,\n",
       " 20151110131,\n",
       " 20151110141,\n",
       " 20151110151,\n",
       " 20151110161,\n",
       " 20151110171,\n",
       " 20151110181,\n",
       " 20151110191,\n",
       " 20151110201,\n",
       " 20151110211,\n",
       " 20151110221,\n",
       " 20151110231,\n",
       " 20151111001,\n",
       " 20151111011,\n",
       " 20151111021,\n",
       " 20151111031,\n",
       " 20151111041,\n",
       " 20151111051,\n",
       " 20151111061,\n",
       " 20151111071,\n",
       " 20151111081,\n",
       " 20151111091,\n",
       " 20151111101,\n",
       " 20151111111,\n",
       " 20151111121,\n",
       " 20151111131,\n",
       " 20151111141,\n",
       " 20151111151,\n",
       " 20151111161,\n",
       " 20151111171,\n",
       " 20151111181,\n",
       " 20151111191,\n",
       " 20151111201,\n",
       " 20151111211,\n",
       " 20151111221,\n",
       " 20151111231,\n",
       " 20151112001,\n",
       " 20151112011,\n",
       " 20151112021,\n",
       " 20151112031,\n",
       " 20151112041,\n",
       " 20151112051,\n",
       " 20151112061,\n",
       " 20151112071,\n",
       " 20151112081,\n",
       " 20151112091,\n",
       " 20151112101,\n",
       " 20151112111,\n",
       " 20151112121,\n",
       " 20151112131,\n",
       " 20151112141,\n",
       " 20151112151,\n",
       " 20151112161,\n",
       " 20151112171,\n",
       " 20151112181,\n",
       " 20151112191,\n",
       " 20151112201,\n",
       " 20151112211,\n",
       " 20151112221,\n",
       " 20151112231,\n",
       " 20151113001,\n",
       " 20151113011,\n",
       " 20151113021,\n",
       " 20151113031,\n",
       " 20151113041,\n",
       " 20151113051,\n",
       " 20151113061,\n",
       " 20151113071,\n",
       " 20151113081,\n",
       " 20151113091,\n",
       " 20151113101,\n",
       " 20151113111,\n",
       " 20151113121,\n",
       " 20151113131,\n",
       " 20151113141,\n",
       " 20151113151,\n",
       " 20151113161,\n",
       " 20151113171,\n",
       " 20151113181,\n",
       " 20151113191,\n",
       " 20151113201,\n",
       " 20151113211,\n",
       " 20151113221,\n",
       " 20151113231,\n",
       " 20151114001,\n",
       " 20151114011,\n",
       " 20151114021,\n",
       " 20151114031,\n",
       " 20151114041,\n",
       " 20151114051,\n",
       " 20151114061,\n",
       " 20151114071,\n",
       " 20151114081,\n",
       " 20151114091,\n",
       " 20151114101,\n",
       " 20151114111,\n",
       " 20151114121,\n",
       " 20151114131,\n",
       " 20151114141,\n",
       " 20151114151,\n",
       " 20151114161,\n",
       " 20151114171,\n",
       " 20151114181,\n",
       " 20151114191,\n",
       " 20151114201,\n",
       " 20151114211,\n",
       " 20151114221,\n",
       " 20151114231,\n",
       " 20151115001,\n",
       " 20151115011,\n",
       " 20151115021,\n",
       " 20151115031,\n",
       " 20151115041,\n",
       " 20151115051,\n",
       " 20151115061,\n",
       " 20151115071,\n",
       " 20151115081,\n",
       " 20151115091,\n",
       " 20151115101,\n",
       " 20151115111,\n",
       " 20151115121,\n",
       " 20151115131,\n",
       " 20151115141,\n",
       " 20151115151,\n",
       " 20151115161,\n",
       " 20151115171,\n",
       " 20151115181,\n",
       " 20151115191,\n",
       " 20151115201,\n",
       " 20151115211,\n",
       " 20151115221,\n",
       " 20151115231,\n",
       " 20151116001,\n",
       " 20151116011,\n",
       " 20151116021,\n",
       " 20151116031,\n",
       " 20151116041,\n",
       " 20151116051,\n",
       " 20151116061,\n",
       " 20151116071,\n",
       " 20151116081,\n",
       " 20151116091,\n",
       " 20151116101,\n",
       " 20151116111,\n",
       " 20151116121,\n",
       " 20151116131,\n",
       " 20151116141,\n",
       " 20151116151,\n",
       " 20151116161,\n",
       " 20151116171,\n",
       " 20151116181,\n",
       " 20151116191,\n",
       " 20151116201,\n",
       " 20151116211,\n",
       " 20151116221,\n",
       " 20151116231,\n",
       " 20151117001,\n",
       " 20151117011,\n",
       " 20151117021,\n",
       " 20151117031,\n",
       " 20151117041,\n",
       " 20151117051,\n",
       " 20151117061,\n",
       " 20151117071,\n",
       " 20151117081,\n",
       " 20151117091,\n",
       " 20151117101,\n",
       " 20151117111,\n",
       " 20151117121,\n",
       " 20151117131,\n",
       " 20151117141,\n",
       " 20151117151,\n",
       " 20151117161,\n",
       " 20151117171,\n",
       " 20151117181,\n",
       " 20151117191,\n",
       " 20151117201,\n",
       " 20151117211,\n",
       " 20151117221,\n",
       " 20151117231,\n",
       " 20151118001,\n",
       " 20151118011,\n",
       " 20151118021,\n",
       " 20151118031,\n",
       " 20151118041,\n",
       " 20151118051,\n",
       " 20151118061,\n",
       " 20151118071,\n",
       " 20151118081,\n",
       " 20151118091,\n",
       " 20151118101,\n",
       " 20151118111,\n",
       " 20151118121,\n",
       " 20151118131,\n",
       " 20151118141,\n",
       " 20151118151,\n",
       " 20151118161,\n",
       " 20151118171,\n",
       " 20151118181,\n",
       " 20151118191,\n",
       " 20151118201,\n",
       " 20151118211,\n",
       " 20151118221,\n",
       " 20151118231,\n",
       " 20151119001,\n",
       " 20151119011,\n",
       " 20151119021,\n",
       " 20151119031,\n",
       " 20151119041,\n",
       " 20151119051,\n",
       " 20151119061,\n",
       " 20151119071,\n",
       " 20151119081,\n",
       " 20151119091,\n",
       " 20151119101,\n",
       " 20151119111,\n",
       " 20151119121,\n",
       " 20151119131,\n",
       " 20151119141,\n",
       " 20151119151,\n",
       " 20151119161,\n",
       " 20151119171,\n",
       " 20151119181,\n",
       " 20151119191,\n",
       " 20151119201,\n",
       " 20151119211,\n",
       " 20151119221,\n",
       " 20151119231,\n",
       " 20151120001,\n",
       " 20151120011,\n",
       " 20151120021,\n",
       " 20151120031,\n",
       " 20151120041,\n",
       " 20151120051,\n",
       " 20151120061,\n",
       " 20151120071,\n",
       " 20151120081,\n",
       " 20151120091,\n",
       " 20151120101,\n",
       " 20151120111,\n",
       " 20151120121,\n",
       " 20151120131,\n",
       " 20151120141,\n",
       " 20151120151,\n",
       " 20151120161,\n",
       " 20151120171,\n",
       " 20151120181,\n",
       " 20151120191,\n",
       " 20151120201,\n",
       " 20151120211,\n",
       " 20151120221,\n",
       " 20151120231,\n",
       " 20151121001,\n",
       " 20151121011,\n",
       " 20151121021,\n",
       " 20151121031,\n",
       " 20151121041,\n",
       " 20151121051,\n",
       " 20151121061,\n",
       " 20151121071,\n",
       " 20151121081,\n",
       " 20151121091,\n",
       " 20151121101,\n",
       " 20151121111,\n",
       " 20151121121,\n",
       " 20151121131,\n",
       " 20151121141,\n",
       " 20151121151,\n",
       " 20151121161,\n",
       " 20151121171,\n",
       " 20151121181,\n",
       " 20151121191,\n",
       " 20151121201,\n",
       " 20151121211,\n",
       " 20151121221,\n",
       " 20151121231,\n",
       " 20151122001,\n",
       " 20151122011,\n",
       " 20151122021,\n",
       " 20151122031,\n",
       " 20151122041,\n",
       " 20151122051,\n",
       " 20151122061,\n",
       " 20151122071,\n",
       " 20151122081,\n",
       " 20151122091,\n",
       " 20151122101,\n",
       " 20151122111,\n",
       " 20151122121,\n",
       " 20151122131,\n",
       " 20151122141,\n",
       " 20151122151,\n",
       " 20151122161,\n",
       " 20151122171,\n",
       " 20151122181,\n",
       " 20151122191,\n",
       " 20151122201,\n",
       " 20151122211,\n",
       " 20151122221,\n",
       " 20151122231,\n",
       " 20151123001,\n",
       " 20151123011,\n",
       " 20151123021,\n",
       " 20151123031,\n",
       " 20151123041,\n",
       " 20151123051,\n",
       " 20151123061,\n",
       " 20151123071,\n",
       " 20151123081,\n",
       " 20151123091,\n",
       " 20151123101,\n",
       " 20151123111,\n",
       " 20151123121,\n",
       " 20151123131,\n",
       " 20151123141,\n",
       " 20151123151,\n",
       " 20151123161,\n",
       " 20151123171,\n",
       " 20151123181,\n",
       " 20151123191,\n",
       " 20151123201,\n",
       " 20151123211,\n",
       " 20151123221,\n",
       " 20151123231,\n",
       " 20151124001,\n",
       " 20151124011,\n",
       " 20151124021,\n",
       " 20151124031,\n",
       " 20151124041,\n",
       " 20151124051,\n",
       " 20151124061,\n",
       " 20151124071,\n",
       " 20151124081,\n",
       " 20151124091,\n",
       " 20151124101,\n",
       " 20151124111,\n",
       " 20151124121,\n",
       " 20151124131,\n",
       " 20151124141,\n",
       " 20151124151,\n",
       " 20151124161,\n",
       " 20151124171,\n",
       " 20151124181,\n",
       " 20151124191,\n",
       " 20151124201,\n",
       " 20151124211,\n",
       " 20151124221,\n",
       " 20151124231,\n",
       " 20151125001,\n",
       " 20151125011,\n",
       " 20151125021,\n",
       " 20151125031,\n",
       " 20151125041,\n",
       " 20151125051,\n",
       " 20151125061,\n",
       " 20151125071,\n",
       " 20151125081,\n",
       " 20151125091,\n",
       " 20151125101,\n",
       " 20151125111,\n",
       " 20151125121,\n",
       " 20151125131,\n",
       " 20151125141,\n",
       " 20151125151,\n",
       " 20151125161,\n",
       " 20151125171,\n",
       " 20151125181,\n",
       " 20151125191,\n",
       " 20151125201,\n",
       " 20151125211,\n",
       " 20151125221,\n",
       " 20151125231,\n",
       " 20151126001,\n",
       " 20151126011,\n",
       " 20151126021,\n",
       " 20151126031,\n",
       " 20151126041,\n",
       " 20151126051,\n",
       " 20151126061,\n",
       " 20151126071,\n",
       " 20151126081,\n",
       " 20151126091,\n",
       " 20151126101,\n",
       " 20151126111,\n",
       " 20151126121,\n",
       " 20151126131,\n",
       " 20151126141,\n",
       " 20151126151,\n",
       " 20151126161,\n",
       " 20151126171,\n",
       " 20151126181,\n",
       " 20151126191,\n",
       " 20151126201,\n",
       " 20151126211,\n",
       " 20151126221,\n",
       " 20151126231,\n",
       " 20151127001,\n",
       " 20151127011,\n",
       " 20151127021,\n",
       " 20151127031,\n",
       " 20151127041,\n",
       " 20151127051,\n",
       " 20151127061,\n",
       " 20151127071,\n",
       " 20151127081,\n",
       " 20151127091,\n",
       " 20151127101,\n",
       " 20151127111,\n",
       " 20151127121,\n",
       " 20151127131,\n",
       " 20151127141,\n",
       " 20151127151,\n",
       " 20151127161,\n",
       " 20151127171,\n",
       " 20151127181,\n",
       " 20151127191,\n",
       " 20151127201,\n",
       " 20151127211,\n",
       " 20151127221,\n",
       " 20151127231,\n",
       " 20151128001,\n",
       " 20151128011,\n",
       " 20151128021,\n",
       " 20151128031,\n",
       " 20151128041,\n",
       " 20151128051,\n",
       " 20151128061,\n",
       " 20151128071,\n",
       " 20151128081,\n",
       " 20151128091,\n",
       " 20151128101,\n",
       " 20151128111,\n",
       " 20151128121,\n",
       " 20151128131,\n",
       " 20151128141,\n",
       " 20151128151,\n",
       " 20151128161,\n",
       " 20151128171,\n",
       " 20151128181,\n",
       " 20151128191,\n",
       " 20151128201,\n",
       " 20151128211,\n",
       " 20151128221,\n",
       " 20151128231,\n",
       " 20151129001,\n",
       " 20151129011,\n",
       " 20151129021,\n",
       " 20151129031,\n",
       " 20151129041,\n",
       " 20151129051,\n",
       " 20151129061,\n",
       " 20151129071,\n",
       " 20151129081,\n",
       " 20151129091,\n",
       " 20151129101,\n",
       " 20151129111,\n",
       " 20151129121,\n",
       " 20151129131,\n",
       " 20151129141,\n",
       " 20151129151,\n",
       " 20151129161,\n",
       " 20151129171,\n",
       " 20151129181,\n",
       " 20151129191,\n",
       " 20151129201,\n",
       " 20151129211,\n",
       " 20151129221,\n",
       " 20151129231,\n",
       " 20151130001,\n",
       " 20151130011,\n",
       " 20151130021,\n",
       " 20151130031,\n",
       " 20151130041,\n",
       " 20151130051,\n",
       " 20151130061,\n",
       " 20151130071,\n",
       " 20151130081,\n",
       " 20151130091,\n",
       " 20151130101,\n",
       " 20151130111,\n",
       " 20151130121,\n",
       " 20151130131,\n",
       " 20151130141,\n",
       " 20151130151,\n",
       " 20151130161,\n",
       " 20151130171,\n",
       " 20151130181,\n",
       " 20151130191,\n",
       " 20151130201,\n",
       " 20151130211,\n",
       " 20151130221,\n",
       " 20151130231,\n",
       " 20151201001,\n",
       " 20151201011,\n",
       " 20151201021,\n",
       " 20151201031,\n",
       " 20151201041,\n",
       " 20151201051,\n",
       " 20151201061,\n",
       " 20151201071,\n",
       " 20151201081,\n",
       " 20151201091,\n",
       " 20151201101,\n",
       " 20151201111,\n",
       " 20151201121,\n",
       " 20151201131,\n",
       " 20151201141,\n",
       " 20151201151,\n",
       " 20151201161,\n",
       " 20151201171,\n",
       " 20151201181,\n",
       " 20151201191,\n",
       " 20151201201,\n",
       " 20151201211,\n",
       " 20151201221,\n",
       " 20151201231,\n",
       " 20151202001,\n",
       " 20151202011,\n",
       " 20151202021,\n",
       " 20151202031,\n",
       " 20151202041,\n",
       " 20151202051,\n",
       " 20151202061,\n",
       " 20151202071,\n",
       " 20151202081,\n",
       " 20151202091,\n",
       " 20151202101,\n",
       " 20151202111,\n",
       " 20151202121,\n",
       " 20151202131,\n",
       " 20151202141,\n",
       " 20151202151,\n",
       " 20151202161,\n",
       " 20151202171,\n",
       " 20151202181,\n",
       " 20151202191,\n",
       " 20151202201,\n",
       " 20151202211,\n",
       " 20151202221,\n",
       " 20151202231,\n",
       " 20151203001,\n",
       " 20151203011,\n",
       " 20151203021,\n",
       " 20151203031,\n",
       " 20151203041,\n",
       " 20151203051,\n",
       " 20151203061,\n",
       " 20151203071,\n",
       " 20151203081,\n",
       " 20151203091,\n",
       " 20151203101,\n",
       " 20151203111,\n",
       " 20151203121,\n",
       " 20151203131,\n",
       " 20151203141,\n",
       " 20151203151,\n",
       " 20151203161,\n",
       " 20151203171,\n",
       " 20151203181,\n",
       " 20151203191,\n",
       " 20151203201,\n",
       " 20151203211,\n",
       " 20151203221,\n",
       " 20151203231,\n",
       " 20151204001,\n",
       " 20151204011,\n",
       " 20151204021,\n",
       " 20151204031,\n",
       " 20151204041,\n",
       " 20151204051,\n",
       " 20151204061,\n",
       " 20151204071,\n",
       " 20151204081,\n",
       " 20151204091,\n",
       " 20151204101,\n",
       " 20151204111,\n",
       " 20151204121,\n",
       " 20151204131,\n",
       " 20151204141,\n",
       " 20151204151,\n",
       " 20151204161,\n",
       " 20151204171,\n",
       " 20151204181,\n",
       " 20151204191,\n",
       " 20151204201,\n",
       " 20151204211,\n",
       " 20151204221,\n",
       " 20151204231,\n",
       " 20151205001,\n",
       " 20151205011,\n",
       " 20151205021,\n",
       " 20151205031,\n",
       " 20151205041,\n",
       " 20151205051,\n",
       " 20151205061,\n",
       " 20151205071,\n",
       " 20151205081,\n",
       " 20151205091,\n",
       " 20151205101,\n",
       " 20151205111,\n",
       " 20151205121,\n",
       " 20151205131,\n",
       " 20151205141,\n",
       " 20151205151,\n",
       " 20151205161,\n",
       " 20151205171,\n",
       " 20151205181,\n",
       " 20151205191,\n",
       " 20151205201,\n",
       " 20151205211,\n",
       " 20151205221,\n",
       " 20151205231,\n",
       " 20151206001,\n",
       " 20151206011,\n",
       " 20151206021,\n",
       " 20151206031,\n",
       " 20151206041,\n",
       " 20151206051,\n",
       " 20151206061,\n",
       " 20151206071,\n",
       " 20151206081,\n",
       " 20151206091,\n",
       " 20151206101,\n",
       " 20151206111,\n",
       " 20151206121,\n",
       " 20151206131,\n",
       " 20151206141,\n",
       " 20151206151,\n",
       " 20151206161,\n",
       " 20151206171,\n",
       " 20151206181,\n",
       " 20151206191,\n",
       " 20151206201,\n",
       " 20151206211,\n",
       " 20151206221,\n",
       " 20151206231,\n",
       " 20151207001,\n",
       " 20151207011,\n",
       " 20151207021,\n",
       " 20151207031,\n",
       " 20151207041,\n",
       " 20151207051,\n",
       " 20151207061,\n",
       " 20151207071,\n",
       " 20151207081,\n",
       " 20151207091,\n",
       " 20151207101,\n",
       " 20151207111,\n",
       " 20151207121,\n",
       " 20151207131,\n",
       " 20151207141,\n",
       " 20151207151,\n",
       " 20151207161,\n",
       " 20151207171,\n",
       " 20151207181,\n",
       " 20151207191,\n",
       " 20151207201,\n",
       " 20151207211,\n",
       " 20151207221,\n",
       " 20151207231,\n",
       " 20151208001,\n",
       " 20151208011,\n",
       " 20151208021,\n",
       " 20151208031,\n",
       " 20151208041,\n",
       " 20151208051,\n",
       " 20151208061,\n",
       " 20151208071,\n",
       " 20151208081,\n",
       " 20151208091,\n",
       " 20151208101,\n",
       " 20151208111,\n",
       " 20151208121,\n",
       " 20151208131,\n",
       " 20151208141,\n",
       " 20151208151,\n",
       " 20151208161,\n",
       " 20151208171,\n",
       " 20151208181,\n",
       " 20151208191,\n",
       " 20151208201,\n",
       " 20151208211,\n",
       " 20151208221,\n",
       " 20151208231,\n",
       " 20151209001,\n",
       " 20151209011,\n",
       " 20151209021,\n",
       " 20151209031,\n",
       " 20151209041,\n",
       " 20151209051,\n",
       " 20151209061,\n",
       " 20151209071,\n",
       " 20151209081,\n",
       " 20151209091,\n",
       " 20151209101,\n",
       " 20151209111,\n",
       " 20151209121,\n",
       " 20151209131,\n",
       " 20151209141,\n",
       " 20151209151,\n",
       " 20151209161,\n",
       " 20151209171,\n",
       " 20151209181,\n",
       " 20151209191,\n",
       " 20151209201,\n",
       " 20151209211,\n",
       " 20151209221,\n",
       " 20151209231,\n",
       " 20151210001,\n",
       " 20151210011,\n",
       " 20151210021,\n",
       " 20151210031,\n",
       " 20151210041,\n",
       " 20151210051,\n",
       " 20151210061,\n",
       " 20151210071,\n",
       " 20151210081,\n",
       " 20151210091,\n",
       " 20151210101,\n",
       " 20151210111,\n",
       " 20151210121,\n",
       " 20151210131,\n",
       " 20151210141,\n",
       " 20151210151,\n",
       " 20151210161,\n",
       " 20151210171,\n",
       " 20151210181,\n",
       " 20151210191,\n",
       " 20151210201,\n",
       " 20151210211,\n",
       " 20151210221,\n",
       " 20151210231,\n",
       " 20151211001,\n",
       " 20151211011,\n",
       " 20151211021,\n",
       " 20151211031,\n",
       " 20151211041,\n",
       " 20151211051,\n",
       " 20151211061,\n",
       " 20151211071,\n",
       " 20151211081,\n",
       " 20151211091,\n",
       " 20151211101,\n",
       " 20151211111,\n",
       " 20151211121,\n",
       " 20151211131,\n",
       " 20151211141,\n",
       " 20151211151,\n",
       " 20151211161,\n",
       " 20151211171,\n",
       " 20151211181,\n",
       " 20151211191,\n",
       " 20151211201,\n",
       " 20151211211,\n",
       " 20151211221,\n",
       " 20151211231,\n",
       " 20151212001,\n",
       " 20151212011,\n",
       " 20151212021,\n",
       " 20151212031,\n",
       " 20151212041,\n",
       " 20151212051,\n",
       " 20151212061,\n",
       " 20151212071,\n",
       " 20151212081,\n",
       " 20151212091,\n",
       " 20151212101,\n",
       " 20151212111,\n",
       " 20151212121,\n",
       " 20151212131,\n",
       " 20151212141,\n",
       " 20151212151,\n",
       " ...]"
      ]
     },
     "execution_count": 32,
     "metadata": {},
     "output_type": "execute_result"
    }
   ],
   "source": [
    "outlier=[]\n",
    "for x in df['ID']:\n",
    "  if((x>upper_limit) or (x>lower_limit)):\n",
    "    outlier.append(x)\n",
    "outlier"
   ]
  },
  {
   "cell_type": "code",
   "execution_count": 24,
   "id": "028a652c-d8ac-42da-875a-ba6094292ac8",
   "metadata": {},
   "outputs": [
    {
     "name": "stdout",
     "output_type": "stream",
     "text": [
      "9.0\n",
      "15.0\n",
      "29.0\n"
     ]
    }
   ],
   "source": [
    "Q1=np.percentile(df['Vehicles'],25,interpolation='midpoint')\n",
    "Q2=np.percentile(df['Vehicles'],50,interpolation='midpoint')\n",
    "Q3=np.percentile(df['Vehicles'],75,interpolation='midpoint')\n",
    "print(Q1)\n",
    "print(Q2)\n",
    "print(Q3)"
   ]
  },
  {
   "cell_type": "code",
   "execution_count": 25,
   "id": "e1b44130-aa1e-45ea-936d-9b32a612fbc5",
   "metadata": {},
   "outputs": [
    {
     "name": "stdout",
     "output_type": "stream",
     "text": [
      "20.0\n"
     ]
    }
   ],
   "source": [
    "IQR=Q3-Q1\n",
    "print(IQR)"
   ]
  },
  {
   "cell_type": "code",
   "execution_count": 26,
   "id": "cffbbfac-d5d5-401d-be6a-fe54089051a7",
   "metadata": {},
   "outputs": [
    {
     "name": "stdout",
     "output_type": "stream",
     "text": [
      "59.0\n",
      "-21.0\n"
     ]
    }
   ],
   "source": [
    "upper_limit=Q3+1.5*IQR\n",
    "lower_limit=Q1-1.5*IQR\n",
    "print(upper_limit)\n",
    "print(lower_limit)"
   ]
  },
  {
   "cell_type": "code",
   "execution_count": 27,
   "id": "bda5fc4e-fec3-454e-85b0-e6b4b9296404",
   "metadata": {},
   "outputs": [
    {
     "data": {
      "text/plain": [
       "[15,\n",
       " 13,\n",
       " 10,\n",
       " 7,\n",
       " 9,\n",
       " 6,\n",
       " 9,\n",
       " 8,\n",
       " 11,\n",
       " 12,\n",
       " 15,\n",
       " 17,\n",
       " 16,\n",
       " 15,\n",
       " 16,\n",
       " 12,\n",
       " 12,\n",
       " 16,\n",
       " 17,\n",
       " 20,\n",
       " 17,\n",
       " 19,\n",
       " 20,\n",
       " 15,\n",
       " 14,\n",
       " 12,\n",
       " 14,\n",
       " 12,\n",
       " 12,\n",
       " 11,\n",
       " 13,\n",
       " 14,\n",
       " 12,\n",
       " 22,\n",
       " 32,\n",
       " 31,\n",
       " 35,\n",
       " 26,\n",
       " 34,\n",
       " 30,\n",
       " 27,\n",
       " 27,\n",
       " 24,\n",
       " 26,\n",
       " 29,\n",
       " 32,\n",
       " 30,\n",
       " 27,\n",
       " 21,\n",
       " 18,\n",
       " 19,\n",
       " 13,\n",
       " 11,\n",
       " 11,\n",
       " 11,\n",
       " 14,\n",
       " 15,\n",
       " 29,\n",
       " 33,\n",
       " 32,\n",
       " 32,\n",
       " 29,\n",
       " 27,\n",
       " 26,\n",
       " 28,\n",
       " 26,\n",
       " 25,\n",
       " 29,\n",
       " 26,\n",
       " 24,\n",
       " 25,\n",
       " 20,\n",
       " 18,\n",
       " 18,\n",
       " 13,\n",
       " 13,\n",
       " 10,\n",
       " 12,\n",
       " 13,\n",
       " 11,\n",
       " 13,\n",
       " 22,\n",
       " 26,\n",
       " 27,\n",
       " 31,\n",
       " 24,\n",
       " 23,\n",
       " 26,\n",
       " 26,\n",
       " 24,\n",
       " 23,\n",
       " 25,\n",
       " 26,\n",
       " 24,\n",
       " 26,\n",
       " 24,\n",
       " 19,\n",
       " 20,\n",
       " 18,\n",
       " 13,\n",
       " 13,\n",
       " 9,\n",
       " 12,\n",
       " 12,\n",
       " 15,\n",
       " 16,\n",
       " 23,\n",
       " 24,\n",
       " 25,\n",
       " 24,\n",
       " 26,\n",
       " 22,\n",
       " 20,\n",
       " 20,\n",
       " 22,\n",
       " 26,\n",
       " 22,\n",
       " 21,\n",
       " 21,\n",
       " 21,\n",
       " 16,\n",
       " 18,\n",
       " 19,\n",
       " 14,\n",
       " 12,\n",
       " 13,\n",
       " 14,\n",
       " 14,\n",
       " 13,\n",
       " 20,\n",
       " 22,\n",
       " 26,\n",
       " 26,\n",
       " 21,\n",
       " 23,\n",
       " 23,\n",
       " 19,\n",
       " 19,\n",
       " 20,\n",
       " 24,\n",
       " 18,\n",
       " 19,\n",
       " 16,\n",
       " 17,\n",
       " 16,\n",
       " 16,\n",
       " 10,\n",
       " 9,\n",
       " 8,\n",
       " 7,\n",
       " 9,\n",
       " 8,\n",
       " 12,\n",
       " 13,\n",
       " 17,\n",
       " 14,\n",
       " 14,\n",
       " 14,\n",
       " 14,\n",
       " 11,\n",
       " 15,\n",
       " 13,\n",
       " 12,\n",
       " 17,\n",
       " 18,\n",
       " 17,\n",
       " 16,\n",
       " 15,\n",
       " 13,\n",
       " 16,\n",
       " 11,\n",
       " 8,\n",
       " 10,\n",
       " 10,\n",
       " 10,\n",
       " 9,\n",
       " 11,\n",
       " 12,\n",
       " 18,\n",
       " 14,\n",
       " 17,\n",
       " 14,\n",
       " 14,\n",
       " 14,\n",
       " 12,\n",
       " 14,\n",
       " 18,\n",
       " 13,\n",
       " 16,\n",
       " 18,\n",
       " 14,\n",
       " 14,\n",
       " 13,\n",
       " 15,\n",
       " 11,\n",
       " 10,\n",
       " 9,\n",
       " 8,\n",
       " 8,\n",
       " 10,\n",
       " 11,\n",
       " 17,\n",
       " 19,\n",
       " 22,\n",
       " 23,\n",
       " 23,\n",
       " 24,\n",
       " 24,\n",
       " 19,\n",
       " 19,\n",
       " 20,\n",
       " 31,\n",
       " 25,\n",
       " 35,\n",
       " 21,\n",
       " 24,\n",
       " 19,\n",
       " 19,\n",
       " 18,\n",
       " 17,\n",
       " 12,\n",
       " 10,\n",
       " 14,\n",
       " 15,\n",
       " 14,\n",
       " 34,\n",
       " 40,\n",
       " 38,\n",
       " 36,\n",
       " 27,\n",
       " 48,\n",
       " 43,\n",
       " 41,\n",
       " 35,\n",
       " 40,\n",
       " 40,\n",
       " 40,\n",
       " 36,\n",
       " 37,\n",
       " 35,\n",
       " 28,\n",
       " 25,\n",
       " 19,\n",
       " 21,\n",
       " 20,\n",
       " 15,\n",
       " 17,\n",
       " 14,\n",
       " 19,\n",
       " 22,\n",
       " 30,\n",
       " 26,\n",
       " 26,\n",
       " 23,\n",
       " 23,\n",
       " 24,\n",
       " 22,\n",
       " 24,\n",
       " 26,\n",
       " 27,\n",
       " 22,\n",
       " 23,\n",
       " 22,\n",
       " 22,\n",
       " 22,\n",
       " 17,\n",
       " 15,\n",
       " 12,\n",
       " 13,\n",
       " 9,\n",
       " 14,\n",
       " 13,\n",
       " 15,\n",
       " 27,\n",
       " 39,\n",
       " 40,\n",
       " 36,\n",
       " 34,\n",
       " 33,\n",
       " 28,\n",
       " 30,\n",
       " 26,\n",
       " 30,\n",
       " 35,\n",
       " 38,\n",
       " 34,\n",
       " 30,\n",
       " 27,\n",
       " 24,\n",
       " 21,\n",
       " 16,\n",
       " 16,\n",
       " 13,\n",
       " 11,\n",
       " 13,\n",
       " 15,\n",
       " 17,\n",
       " 18,\n",
       " 24,\n",
       " 41,\n",
       " 29,\n",
       " 25,\n",
       " 25,\n",
       " 26,\n",
       " 25,\n",
       " 24,\n",
       " 26,\n",
       " 24,\n",
       " 28,\n",
       " 22,\n",
       " 23,\n",
       " 18,\n",
       " 21,\n",
       " 20,\n",
       " 15,\n",
       " 13,\n",
       " 10,\n",
       " 10,\n",
       " 12,\n",
       " 9,\n",
       " 11,\n",
       " 15,\n",
       " 16,\n",
       " 16,\n",
       " 12,\n",
       " 11,\n",
       " 14,\n",
       " 16,\n",
       " 18,\n",
       " 13,\n",
       " 17,\n",
       " 15,\n",
       " 19,\n",
       " 15,\n",
       " 19,\n",
       " 15,\n",
       " 15,\n",
       " 13,\n",
       " 14,\n",
       " 10,\n",
       " 8,\n",
       " 9,\n",
       " 9,\n",
       " 9,\n",
       " 9,\n",
       " 16,\n",
       " 18,\n",
       " 18,\n",
       " 17,\n",
       " 18,\n",
       " 14,\n",
       " 15,\n",
       " 13,\n",
       " 15,\n",
       " 19,\n",
       " 18,\n",
       " 21,\n",
       " 17,\n",
       " 17,\n",
       " 15,\n",
       " 17,\n",
       " 14,\n",
       " 13,\n",
       " 15,\n",
       " 12,\n",
       " 12,\n",
       " 13,\n",
       " 14,\n",
       " 13,\n",
       " 16,\n",
       " 26,\n",
       " 21,\n",
       " 26,\n",
       " 24,\n",
       " 26,\n",
       " 22,\n",
       " 24,\n",
       " 26,\n",
       " 23,\n",
       " 29,\n",
       " 31,\n",
       " 27,\n",
       " 27,\n",
       " 26,\n",
       " 23,\n",
       " 21,\n",
       " 19,\n",
       " 16,\n",
       " 11,\n",
       " 11,\n",
       " 15,\n",
       " 12,\n",
       " 12,\n",
       " 18,\n",
       " 31,\n",
       " 42,\n",
       " 37,\n",
       " 30,\n",
       " 33,\n",
       " 28,\n",
       " 29,\n",
       " 28,\n",
       " 28,\n",
       " 31,\n",
       " 28,\n",
       " 26,\n",
       " 26,\n",
       " 27,\n",
       " 24,\n",
       " 23,\n",
       " 20,\n",
       " 19,\n",
       " 20,\n",
       " 16,\n",
       " 19,\n",
       " 16,\n",
       " 17,\n",
       " 19,\n",
       " 30,\n",
       " 44,\n",
       " 35,\n",
       " 34,\n",
       " 31,\n",
       " 31,\n",
       " 28,\n",
       " 34,\n",
       " 37,\n",
       " 37,\n",
       " 34,\n",
       " 31,\n",
       " 29,\n",
       " 28,\n",
       " 32,\n",
       " 23,\n",
       " 20,\n",
       " 16,\n",
       " 18,\n",
       " 17,\n",
       " 16,\n",
       " 17,\n",
       " 18,\n",
       " 25,\n",
       " 31,\n",
       " 32,\n",
       " 31,\n",
       " 29,\n",
       " 31,\n",
       " 31,\n",
       " 30,\n",
       " 28,\n",
       " 29,\n",
       " 36,\n",
       " 29,\n",
       " 28,\n",
       " 30,\n",
       " 29,\n",
       " 24,\n",
       " 20,\n",
       " 15,\n",
       " 14,\n",
       " 13,\n",
       " 8,\n",
       " 12,\n",
       " 14,\n",
       " 15,\n",
       " 20,\n",
       " 26,\n",
       " 26,\n",
       " 26,\n",
       " 21,\n",
       " 26,\n",
       " 29,\n",
       " 20,\n",
       " 22,\n",
       " 25,\n",
       " 27,\n",
       " 26,\n",
       " 24,\n",
       " 25,\n",
       " 21,\n",
       " 17,\n",
       " 16,\n",
       " 15,\n",
       " 15,\n",
       " 15,\n",
       " 8,\n",
       " 12,\n",
       " 13,\n",
       " 12,\n",
       " 16,\n",
       " 18,\n",
       " 17,\n",
       " 18,\n",
       " 15,\n",
       " 21,\n",
       " 18,\n",
       " 17,\n",
       " 17,\n",
       " 19,\n",
       " 22,\n",
       " 18,\n",
       " 17,\n",
       " 22,\n",
       " 17,\n",
       " 15,\n",
       " 15,\n",
       " 11,\n",
       " 12,\n",
       " 11,\n",
       " 8,\n",
       " 11,\n",
       " 9,\n",
       " 8,\n",
       " 15,\n",
       " 18,\n",
       " 18,\n",
       " 20,\n",
       " 20,\n",
       " 20,\n",
       " 15,\n",
       " 16,\n",
       " 16,\n",
       " 21,\n",
       " 27,\n",
       " 26,\n",
       " 24,\n",
       " 20,\n",
       " 20,\n",
       " 21,\n",
       " 14,\n",
       " 16,\n",
       " 14,\n",
       " 11,\n",
       " 11,\n",
       " 9,\n",
       " 12,\n",
       " 16,\n",
       " 26,\n",
       " 33,\n",
       " 35,\n",
       " 33,\n",
       " 32,\n",
       " 28,\n",
       " 33,\n",
       " 27,\n",
       " 24,\n",
       " 27,\n",
       " 29,\n",
       " 26,\n",
       " 27,\n",
       " 28,\n",
       " 26,\n",
       " 23,\n",
       " 19,\n",
       " 18,\n",
       " 13,\n",
       " 12,\n",
       " 13,\n",
       " 16,\n",
       " 17,\n",
       " 23,\n",
       " 26,\n",
       " 29,\n",
       " 28,\n",
       " 31,\n",
       " 23,\n",
       " 28,\n",
       " 25,\n",
       " 24,\n",
       " 27,\n",
       " 28,\n",
       " 24,\n",
       " 29,\n",
       " 26,\n",
       " 25,\n",
       " 23,\n",
       " 21,\n",
       " 16,\n",
       " 16,\n",
       " 15,\n",
       " 11,\n",
       " 9,\n",
       " 10,\n",
       " 14,\n",
       " 17,\n",
       " 21,\n",
       " 28,\n",
       " 30,\n",
       " 29,\n",
       " 26,\n",
       " 26,\n",
       " 27,\n",
       " 26,\n",
       " 23,\n",
       " 28,\n",
       " 31,\n",
       " 26,\n",
       " 24,\n",
       " 24,\n",
       " 21,\n",
       " 22,\n",
       " 16,\n",
       " 13,\n",
       " 11,\n",
       " 13,\n",
       " 12,\n",
       " 11,\n",
       " 13,\n",
       " 11,\n",
       " 21,\n",
       " 32,\n",
       " 33,\n",
       " 26,\n",
       " 25,\n",
       " 30,\n",
       " 30,\n",
       " 28,\n",
       " 25,\n",
       " 24,\n",
       " 29,\n",
       " 31,\n",
       " 26,\n",
       " 28,\n",
       " 21,\n",
       " 20,\n",
       " 19,\n",
       " 14,\n",
       " 11,\n",
       " 9,\n",
       " 11,\n",
       " 10,\n",
       " 9,\n",
       " 16,\n",
       " 21,\n",
       " 33,\n",
       " 29,\n",
       " 28,\n",
       " 26,\n",
       " 27,\n",
       " 29,\n",
       " 26,\n",
       " 27,\n",
       " 27,\n",
       " 30,\n",
       " 24,\n",
       " 24,\n",
       " 24,\n",
       " 23,\n",
       " 21,\n",
       " 13,\n",
       " 16,\n",
       " 11,\n",
       " 10,\n",
       " 8,\n",
       " 11,\n",
       " 10,\n",
       " 16,\n",
       " 19,\n",
       " 21,\n",
       " 25,\n",
       " 21,\n",
       " 18,\n",
       " 18,\n",
       " 22,\n",
       " 18,\n",
       " 16,\n",
       " 16,\n",
       " 26,\n",
       " 28,\n",
       " 22,\n",
       " 22,\n",
       " 21,\n",
       " 22,\n",
       " 17,\n",
       " 13,\n",
       " 10,\n",
       " 12,\n",
       " 12,\n",
       " 9,\n",
       " 13,\n",
       " 14,\n",
       " 18,\n",
       " 20,\n",
       " 21,\n",
       " 22,\n",
       " 17,\n",
       " 20,\n",
       " 19,\n",
       " 20,\n",
       " 20,\n",
       " 21,\n",
       " 20,\n",
       " 22,\n",
       " 24,\n",
       " 21,\n",
       " 18,\n",
       " 20,\n",
       " 13,\n",
       " 15,\n",
       " 11,\n",
       " 12,\n",
       " 11,\n",
       " 11,\n",
       " 13,\n",
       " 16,\n",
       " 24,\n",
       " 35,\n",
       " 34,\n",
       " 36,\n",
       " 27,\n",
       " 33,\n",
       " 34,\n",
       " 28,\n",
       " 27,\n",
       " 28,\n",
       " 29,\n",
       " 31,\n",
       " 29,\n",
       " 26,\n",
       " 24,\n",
       " 21,\n",
       " 20,\n",
       " 18,\n",
       " 13,\n",
       " 14,\n",
       " 11,\n",
       " 11,\n",
       " 12,\n",
       " 16,\n",
       " 21,\n",
       " 30,\n",
       " 29,\n",
       " 28,\n",
       " 31,\n",
       " 26,\n",
       " 29,\n",
       " 25,\n",
       " 25,\n",
       " 25,\n",
       " 27,\n",
       " 27,\n",
       " 30,\n",
       " 24,\n",
       " 26,\n",
       " 21,\n",
       " 19,\n",
       " 18,\n",
       " 15,\n",
       " 17,\n",
       " 13,\n",
       " 14,\n",
       " 16,\n",
       " 18,\n",
       " 32,\n",
       " 39,\n",
       " 39,\n",
       " 38,\n",
       " 33,\n",
       " 33,\n",
       " 30,\n",
       " 29,\n",
       " 28,\n",
       " 29,\n",
       " 32,\n",
       " 35,\n",
       " 34,\n",
       " 31,\n",
       " 27,\n",
       " 23,\n",
       " 22,\n",
       " 15,\n",
       " 17,\n",
       " 13,\n",
       " 12,\n",
       " 12,\n",
       " 15,\n",
       " 17,\n",
       " 23,\n",
       " 30,\n",
       " 31,\n",
       " 26,\n",
       " 24,\n",
       " 30,\n",
       " 26,\n",
       " 24,\n",
       " 28,\n",
       " 28,\n",
       " 31,\n",
       " 30,\n",
       " 29,\n",
       " 28,\n",
       " 22,\n",
       " 19,\n",
       " 19,\n",
       " 16,\n",
       " 14,\n",
       " 15,\n",
       " 14,\n",
       " 10,\n",
       " 11,\n",
       " 14,\n",
       " 29,\n",
       " 31,\n",
       " 32,\n",
       " 30,\n",
       " 25,\n",
       " 30,\n",
       " 28,\n",
       " 27,\n",
       " 26,\n",
       " 22,\n",
       " 28,\n",
       " 27,\n",
       " 23,\n",
       " 27,\n",
       " 20,\n",
       " 18,\n",
       " 19,\n",
       " 15,\n",
       " 12,\n",
       " 15,\n",
       " 7,\n",
       " 10,\n",
       " 11,\n",
       " 13,\n",
       " 13,\n",
       " 19,\n",
       " 17,\n",
       " 20,\n",
       " 15,\n",
       " 17,\n",
       " 17,\n",
       " 16,\n",
       " 17,\n",
       " 16,\n",
       " 21,\n",
       " 19,\n",
       " 20,\n",
       " 20,\n",
       " 21,\n",
       " 14,\n",
       " 14,\n",
       " 12,\n",
       " 12,\n",
       " 10,\n",
       " 8,\n",
       " 8,\n",
       " 12,\n",
       " 11,\n",
       " 14,\n",
       " 17,\n",
       " 17,\n",
       " 19,\n",
       " 17,\n",
       " 13,\n",
       " 16,\n",
       " 10,\n",
       " 18,\n",
       " 19,\n",
       " 20,\n",
       " 21,\n",
       " 15,\n",
       " 21,\n",
       " 19,\n",
       " 19,\n",
       " 15,\n",
       " 13,\n",
       " 11,\n",
       " 10,\n",
       " 9,\n",
       " 10,\n",
       " 13,\n",
       " 20,\n",
       " 24,\n",
       " 26,\n",
       " 32,\n",
       " 29,\n",
       " 25,\n",
       " 28,\n",
       " 27,\n",
       " 22,\n",
       " 25,\n",
       " 24,\n",
       " 34,\n",
       " 30,\n",
       " 28,\n",
       " 26,\n",
       " 27,\n",
       " 19,\n",
       " 20,\n",
       " 17,\n",
       " 14,\n",
       " 15,\n",
       " 12,\n",
       " 14,\n",
       " 11,\n",
       " 16,\n",
       " 18,\n",
       " 23,\n",
       " 28,\n",
       " 27,\n",
       " 23,\n",
       " 26,\n",
       " 23,\n",
       " 25,\n",
       " 23,\n",
       " 26,\n",
       " 24,\n",
       " 25,\n",
       " 24,\n",
       " 23,\n",
       " 21,\n",
       " 21,\n",
       " 20,\n",
       " 18,\n",
       " 15,\n",
       " 10,\n",
       " 11,\n",
       " 13,\n",
       " 13,\n",
       " 14,\n",
       " 18,\n",
       " 20,\n",
       " 26,\n",
       " 25,\n",
       " 39,\n",
       " 36,\n",
       " 33,\n",
       " 26,\n",
       " 25,\n",
       " 27,\n",
       " 27,\n",
       " 29,\n",
       " 27,\n",
       " 28,\n",
       " 26,\n",
       " 20,\n",
       " 14,\n",
       " 14,\n",
       " 17,\n",
       " 11,\n",
       " 12,\n",
       " 12,\n",
       " 14,\n",
       " 14,\n",
       " 19,\n",
       " 28,\n",
       " 26,\n",
       " 31,\n",
       " 23,\n",
       " 24,\n",
       " 28,\n",
       " 26,\n",
       " 26,\n",
       " 27,\n",
       " 22,\n",
       " 25,\n",
       " 24,\n",
       " 23,\n",
       " 22,\n",
       " 17,\n",
       " 19,\n",
       " 16,\n",
       " 14,\n",
       " 13,\n",
       " 10,\n",
       " 11,\n",
       " 13,\n",
       " 12,\n",
       " 15,\n",
       " 26,\n",
       " 33,\n",
       " 31,\n",
       " 26,\n",
       " 30,\n",
       " 28,\n",
       " 29,\n",
       " 23,\n",
       " 29,\n",
       " 26,\n",
       " 29,\n",
       " 24,\n",
       " 22,\n",
       " 23,\n",
       " 23,\n",
       " 16,\n",
       " 12,\n",
       " 14,\n",
       " 13,\n",
       " 11,\n",
       " 7,\n",
       " 10,\n",
       " 12,\n",
       " 16,\n",
       " 20,\n",
       " 15,\n",
       " 19,\n",
       " 16,\n",
       " 14,\n",
       " 14,\n",
       " ...]"
      ]
     },
     "execution_count": 27,
     "metadata": {},
     "output_type": "execute_result"
    }
   ],
   "source": [
    "outlier=[]\n",
    "for x in df['Vehicles']:\n",
    "  if((x>upper_limit) or (x>lower_limit)):\n",
    "    outlier.append(x)\n",
    "outlier"
   ]
  },
  {
   "cell_type": "markdown",
   "id": "0ce1eb13-7ec8-4a12-9e96-e940be2217ad",
   "metadata": {},
   "source": [
    "# DATA TRANSFORMING"
   ]
  },
  {
   "cell_type": "code",
   "execution_count": 33,
   "id": "c4d7055d-f894-49a2-89bf-18e7c0a3b7bd",
   "metadata": {},
   "outputs": [
    {
     "data": {
      "text/html": [
       "<div>\n",
       "<style scoped>\n",
       "    .dataframe tbody tr th:only-of-type {\n",
       "        vertical-align: middle;\n",
       "    }\n",
       "\n",
       "    .dataframe tbody tr th {\n",
       "        vertical-align: top;\n",
       "    }\n",
       "\n",
       "    .dataframe thead th {\n",
       "        text-align: right;\n",
       "    }\n",
       "</style>\n",
       "<table border=\"1\" class=\"dataframe\">\n",
       "  <thead>\n",
       "    <tr style=\"text-align: right;\">\n",
       "      <th></th>\n",
       "      <th>DateTime</th>\n",
       "      <th>Junction</th>\n",
       "      <th>Vehicles</th>\n",
       "      <th>ID</th>\n",
       "    </tr>\n",
       "  </thead>\n",
       "  <tbody>\n",
       "    <tr>\n",
       "      <th>0</th>\n",
       "      <td>2015-11-01 00:00:00</td>\n",
       "      <td>1</td>\n",
       "      <td>15</td>\n",
       "      <td>20151101001</td>\n",
       "    </tr>\n",
       "    <tr>\n",
       "      <th>1</th>\n",
       "      <td>2015-11-01 01:00:00</td>\n",
       "      <td>1</td>\n",
       "      <td>13</td>\n",
       "      <td>20151101011</td>\n",
       "    </tr>\n",
       "    <tr>\n",
       "      <th>2</th>\n",
       "      <td>2015-11-01 02:00:00</td>\n",
       "      <td>1</td>\n",
       "      <td>10</td>\n",
       "      <td>20151101021</td>\n",
       "    </tr>\n",
       "    <tr>\n",
       "      <th>3</th>\n",
       "      <td>2015-11-01 03:00:00</td>\n",
       "      <td>1</td>\n",
       "      <td>7</td>\n",
       "      <td>20151101031</td>\n",
       "    </tr>\n",
       "    <tr>\n",
       "      <th>4</th>\n",
       "      <td>2015-11-01 04:00:00</td>\n",
       "      <td>1</td>\n",
       "      <td>9</td>\n",
       "      <td>20151101041</td>\n",
       "    </tr>\n",
       "  </tbody>\n",
       "</table>\n",
       "</div>"
      ],
      "text/plain": [
       "              DateTime  Junction  Vehicles           ID\n",
       "0  2015-11-01 00:00:00         1        15  20151101001\n",
       "1  2015-11-01 01:00:00         1        13  20151101011\n",
       "2  2015-11-01 02:00:00         1        10  20151101021\n",
       "3  2015-11-01 03:00:00         1         7  20151101031\n",
       "4  2015-11-01 04:00:00         1         9  20151101041"
      ]
     },
     "execution_count": 33,
     "metadata": {},
     "output_type": "execute_result"
    }
   ],
   "source": [
    "df.head()"
   ]
  },
  {
   "cell_type": "code",
   "execution_count": 34,
   "id": "5dd9da3a-24cd-42d7-9cb8-bcf0603cb77d",
   "metadata": {},
   "outputs": [
    {
     "data": {
      "text/plain": [
       "DateTime    object\n",
       "Junction     int64\n",
       "Vehicles     int64\n",
       "ID           int64\n",
       "dtype: object"
      ]
     },
     "execution_count": 34,
     "metadata": {},
     "output_type": "execute_result"
    }
   ],
   "source": [
    "df.dtypes"
   ]
  },
  {
   "cell_type": "code",
   "execution_count": 35,
   "id": "e8a34448-9783-4b7b-8606-a5338405037b",
   "metadata": {},
   "outputs": [],
   "source": [
    "from sklearn.preprocessing import LabelEncoder"
   ]
  },
  {
   "cell_type": "code",
   "execution_count": 36,
   "id": "1aef7645-5799-4e3b-863d-cb7134e40e27",
   "metadata": {},
   "outputs": [],
   "source": [
    "le=LabelEncoder()"
   ]
  },
  {
   "cell_type": "code",
   "execution_count": 37,
   "id": "d68be21b-c8ea-4fa5-b0c5-95fbfdd054ad",
   "metadata": {},
   "outputs": [
    {
     "data": {
      "text/html": [
       "<div>\n",
       "<style scoped>\n",
       "    .dataframe tbody tr th:only-of-type {\n",
       "        vertical-align: middle;\n",
       "    }\n",
       "\n",
       "    .dataframe tbody tr th {\n",
       "        vertical-align: top;\n",
       "    }\n",
       "\n",
       "    .dataframe thead th {\n",
       "        text-align: right;\n",
       "    }\n",
       "</style>\n",
       "<table border=\"1\" class=\"dataframe\">\n",
       "  <thead>\n",
       "    <tr style=\"text-align: right;\">\n",
       "      <th></th>\n",
       "      <th>DateTime</th>\n",
       "    </tr>\n",
       "  </thead>\n",
       "  <tbody>\n",
       "    <tr>\n",
       "      <th>0</th>\n",
       "      <td>2015-11-01 00:00:00</td>\n",
       "    </tr>\n",
       "    <tr>\n",
       "      <th>1</th>\n",
       "      <td>2015-11-01 01:00:00</td>\n",
       "    </tr>\n",
       "    <tr>\n",
       "      <th>2</th>\n",
       "      <td>2015-11-01 02:00:00</td>\n",
       "    </tr>\n",
       "    <tr>\n",
       "      <th>3</th>\n",
       "      <td>2015-11-01 03:00:00</td>\n",
       "    </tr>\n",
       "    <tr>\n",
       "      <th>4</th>\n",
       "      <td>2015-11-01 04:00:00</td>\n",
       "    </tr>\n",
       "    <tr>\n",
       "      <th>...</th>\n",
       "      <td>...</td>\n",
       "    </tr>\n",
       "    <tr>\n",
       "      <th>48115</th>\n",
       "      <td>2017-06-30 19:00:00</td>\n",
       "    </tr>\n",
       "    <tr>\n",
       "      <th>48116</th>\n",
       "      <td>2017-06-30 20:00:00</td>\n",
       "    </tr>\n",
       "    <tr>\n",
       "      <th>48117</th>\n",
       "      <td>2017-06-30 21:00:00</td>\n",
       "    </tr>\n",
       "    <tr>\n",
       "      <th>48118</th>\n",
       "      <td>2017-06-30 22:00:00</td>\n",
       "    </tr>\n",
       "    <tr>\n",
       "      <th>48119</th>\n",
       "      <td>2017-06-30 23:00:00</td>\n",
       "    </tr>\n",
       "  </tbody>\n",
       "</table>\n",
       "<p>48120 rows × 1 columns</p>\n",
       "</div>"
      ],
      "text/plain": [
       "                  DateTime\n",
       "0      2015-11-01 00:00:00\n",
       "1      2015-11-01 01:00:00\n",
       "2      2015-11-01 02:00:00\n",
       "3      2015-11-01 03:00:00\n",
       "4      2015-11-01 04:00:00\n",
       "...                    ...\n",
       "48115  2017-06-30 19:00:00\n",
       "48116  2017-06-30 20:00:00\n",
       "48117  2017-06-30 21:00:00\n",
       "48118  2017-06-30 22:00:00\n",
       "48119  2017-06-30 23:00:00\n",
       "\n",
       "[48120 rows x 1 columns]"
      ]
     },
     "execution_count": 37,
     "metadata": {},
     "output_type": "execute_result"
    }
   ],
   "source": [
    "enc=df.select_dtypes(include=['object'])\n",
    "enc"
   ]
  },
  {
   "cell_type": "code",
   "execution_count": 38,
   "id": "21198516-6afd-4198-8682-de6034e6b1de",
   "metadata": {},
   "outputs": [],
   "source": [
    "for col in enc.columns:\n",
    "            df[col] = le.fit_transform(df[col])"
   ]
  },
  {
   "cell_type": "code",
   "execution_count": 39,
   "id": "5dc59c6d-6731-42f7-b701-7eb03f47ceff",
   "metadata": {},
   "outputs": [
    {
     "data": {
      "text/html": [
       "<div>\n",
       "<style scoped>\n",
       "    .dataframe tbody tr th:only-of-type {\n",
       "        vertical-align: middle;\n",
       "    }\n",
       "\n",
       "    .dataframe tbody tr th {\n",
       "        vertical-align: top;\n",
       "    }\n",
       "\n",
       "    .dataframe thead th {\n",
       "        text-align: right;\n",
       "    }\n",
       "</style>\n",
       "<table border=\"1\" class=\"dataframe\">\n",
       "  <thead>\n",
       "    <tr style=\"text-align: right;\">\n",
       "      <th></th>\n",
       "      <th>DateTime</th>\n",
       "      <th>Junction</th>\n",
       "      <th>Vehicles</th>\n",
       "      <th>ID</th>\n",
       "    </tr>\n",
       "  </thead>\n",
       "  <tbody>\n",
       "    <tr>\n",
       "      <th>0</th>\n",
       "      <td>0</td>\n",
       "      <td>1</td>\n",
       "      <td>15</td>\n",
       "      <td>20151101001</td>\n",
       "    </tr>\n",
       "    <tr>\n",
       "      <th>1</th>\n",
       "      <td>1</td>\n",
       "      <td>1</td>\n",
       "      <td>13</td>\n",
       "      <td>20151101011</td>\n",
       "    </tr>\n",
       "    <tr>\n",
       "      <th>2</th>\n",
       "      <td>2</td>\n",
       "      <td>1</td>\n",
       "      <td>10</td>\n",
       "      <td>20151101021</td>\n",
       "    </tr>\n",
       "    <tr>\n",
       "      <th>3</th>\n",
       "      <td>3</td>\n",
       "      <td>1</td>\n",
       "      <td>7</td>\n",
       "      <td>20151101031</td>\n",
       "    </tr>\n",
       "    <tr>\n",
       "      <th>4</th>\n",
       "      <td>4</td>\n",
       "      <td>1</td>\n",
       "      <td>9</td>\n",
       "      <td>20151101041</td>\n",
       "    </tr>\n",
       "  </tbody>\n",
       "</table>\n",
       "</div>"
      ],
      "text/plain": [
       "   DateTime  Junction  Vehicles           ID\n",
       "0         0         1        15  20151101001\n",
       "1         1         1        13  20151101011\n",
       "2         2         1        10  20151101021\n",
       "3         3         1         7  20151101031\n",
       "4         4         1         9  20151101041"
      ]
     },
     "execution_count": 39,
     "metadata": {},
     "output_type": "execute_result"
    }
   ],
   "source": [
    "df.head()"
   ]
  },
  {
   "cell_type": "code",
   "execution_count": 40,
   "id": "9f538352-8a31-4ca1-a93a-512cbce118eb",
   "metadata": {},
   "outputs": [
    {
     "data": {
      "text/plain": [
       "DateTime    int32\n",
       "Junction    int64\n",
       "Vehicles    int64\n",
       "ID          int64\n",
       "dtype: object"
      ]
     },
     "execution_count": 40,
     "metadata": {},
     "output_type": "execute_result"
    }
   ],
   "source": [
    "df.dtypes"
   ]
  },
  {
   "cell_type": "markdown",
   "id": "cd5837b4-8abf-49c3-afc2-620835c15f32",
   "metadata": {},
   "source": [
    "# DATA SCALING"
   ]
  },
  {
   "cell_type": "code",
   "execution_count": 41,
   "id": "a4b2335b-82d2-4815-bbfc-72c073353c49",
   "metadata": {},
   "outputs": [
    {
     "data": {
      "text/html": [
       "<div>\n",
       "<style scoped>\n",
       "    .dataframe tbody tr th:only-of-type {\n",
       "        vertical-align: middle;\n",
       "    }\n",
       "\n",
       "    .dataframe tbody tr th {\n",
       "        vertical-align: top;\n",
       "    }\n",
       "\n",
       "    .dataframe thead th {\n",
       "        text-align: right;\n",
       "    }\n",
       "</style>\n",
       "<table border=\"1\" class=\"dataframe\">\n",
       "  <thead>\n",
       "    <tr style=\"text-align: right;\">\n",
       "      <th></th>\n",
       "      <th>DateTime</th>\n",
       "      <th>Junction</th>\n",
       "      <th>Vehicles</th>\n",
       "      <th>ID</th>\n",
       "    </tr>\n",
       "  </thead>\n",
       "  <tbody>\n",
       "    <tr>\n",
       "      <th>0</th>\n",
       "      <td>0</td>\n",
       "      <td>1</td>\n",
       "      <td>15</td>\n",
       "      <td>20151101001</td>\n",
       "    </tr>\n",
       "    <tr>\n",
       "      <th>1</th>\n",
       "      <td>1</td>\n",
       "      <td>1</td>\n",
       "      <td>13</td>\n",
       "      <td>20151101011</td>\n",
       "    </tr>\n",
       "    <tr>\n",
       "      <th>2</th>\n",
       "      <td>2</td>\n",
       "      <td>1</td>\n",
       "      <td>10</td>\n",
       "      <td>20151101021</td>\n",
       "    </tr>\n",
       "    <tr>\n",
       "      <th>3</th>\n",
       "      <td>3</td>\n",
       "      <td>1</td>\n",
       "      <td>7</td>\n",
       "      <td>20151101031</td>\n",
       "    </tr>\n",
       "    <tr>\n",
       "      <th>4</th>\n",
       "      <td>4</td>\n",
       "      <td>1</td>\n",
       "      <td>9</td>\n",
       "      <td>20151101041</td>\n",
       "    </tr>\n",
       "    <tr>\n",
       "      <th>...</th>\n",
       "      <td>...</td>\n",
       "      <td>...</td>\n",
       "      <td>...</td>\n",
       "      <td>...</td>\n",
       "    </tr>\n",
       "    <tr>\n",
       "      <th>48115</th>\n",
       "      <td>14587</td>\n",
       "      <td>4</td>\n",
       "      <td>11</td>\n",
       "      <td>20170630194</td>\n",
       "    </tr>\n",
       "    <tr>\n",
       "      <th>48116</th>\n",
       "      <td>14588</td>\n",
       "      <td>4</td>\n",
       "      <td>30</td>\n",
       "      <td>20170630204</td>\n",
       "    </tr>\n",
       "    <tr>\n",
       "      <th>48117</th>\n",
       "      <td>14589</td>\n",
       "      <td>4</td>\n",
       "      <td>16</td>\n",
       "      <td>20170630214</td>\n",
       "    </tr>\n",
       "    <tr>\n",
       "      <th>48118</th>\n",
       "      <td>14590</td>\n",
       "      <td>4</td>\n",
       "      <td>22</td>\n",
       "      <td>20170630224</td>\n",
       "    </tr>\n",
       "    <tr>\n",
       "      <th>48119</th>\n",
       "      <td>14591</td>\n",
       "      <td>4</td>\n",
       "      <td>12</td>\n",
       "      <td>20170630234</td>\n",
       "    </tr>\n",
       "  </tbody>\n",
       "</table>\n",
       "<p>48120 rows × 4 columns</p>\n",
       "</div>"
      ],
      "text/plain": [
       "       DateTime  Junction  Vehicles           ID\n",
       "0             0         1        15  20151101001\n",
       "1             1         1        13  20151101011\n",
       "2             2         1        10  20151101021\n",
       "3             3         1         7  20151101031\n",
       "4             4         1         9  20151101041\n",
       "...         ...       ...       ...          ...\n",
       "48115     14587         4        11  20170630194\n",
       "48116     14588         4        30  20170630204\n",
       "48117     14589         4        16  20170630214\n",
       "48118     14590         4        22  20170630224\n",
       "48119     14591         4        12  20170630234\n",
       "\n",
       "[48120 rows x 4 columns]"
      ]
     },
     "execution_count": 41,
     "metadata": {},
     "output_type": "execute_result"
    }
   ],
   "source": [
    "df"
   ]
  },
  {
   "cell_type": "code",
   "execution_count": 42,
   "id": "15c85857-2c14-41d1-b4a6-7b44f1762cd4",
   "metadata": {},
   "outputs": [
    {
     "data": {
      "text/plain": [
       "Index(['DateTime', 'Junction', 'Vehicles', 'ID'], dtype='object')"
      ]
     },
     "execution_count": 42,
     "metadata": {},
     "output_type": "execute_result"
    }
   ],
   "source": [
    "df.columns"
   ]
  },
  {
   "cell_type": "code",
   "execution_count": 43,
   "id": "62ab357b-11ba-4270-a5ef-7c5573193b65",
   "metadata": {},
   "outputs": [],
   "source": [
    "x=df.drop('Vehicles',axis=1)\n",
    "y=df['Vehicles']"
   ]
  },
  {
   "cell_type": "code",
   "execution_count": 44,
   "id": "79ef40ba-0380-4912-ac09-34cb04715ea5",
   "metadata": {},
   "outputs": [
    {
     "data": {
      "text/html": [
       "<div>\n",
       "<style scoped>\n",
       "    .dataframe tbody tr th:only-of-type {\n",
       "        vertical-align: middle;\n",
       "    }\n",
       "\n",
       "    .dataframe tbody tr th {\n",
       "        vertical-align: top;\n",
       "    }\n",
       "\n",
       "    .dataframe thead th {\n",
       "        text-align: right;\n",
       "    }\n",
       "</style>\n",
       "<table border=\"1\" class=\"dataframe\">\n",
       "  <thead>\n",
       "    <tr style=\"text-align: right;\">\n",
       "      <th></th>\n",
       "      <th>DateTime</th>\n",
       "      <th>Junction</th>\n",
       "      <th>ID</th>\n",
       "    </tr>\n",
       "  </thead>\n",
       "  <tbody>\n",
       "    <tr>\n",
       "      <th>0</th>\n",
       "      <td>0</td>\n",
       "      <td>1</td>\n",
       "      <td>20151101001</td>\n",
       "    </tr>\n",
       "    <tr>\n",
       "      <th>1</th>\n",
       "      <td>1</td>\n",
       "      <td>1</td>\n",
       "      <td>20151101011</td>\n",
       "    </tr>\n",
       "    <tr>\n",
       "      <th>2</th>\n",
       "      <td>2</td>\n",
       "      <td>1</td>\n",
       "      <td>20151101021</td>\n",
       "    </tr>\n",
       "    <tr>\n",
       "      <th>3</th>\n",
       "      <td>3</td>\n",
       "      <td>1</td>\n",
       "      <td>20151101031</td>\n",
       "    </tr>\n",
       "    <tr>\n",
       "      <th>4</th>\n",
       "      <td>4</td>\n",
       "      <td>1</td>\n",
       "      <td>20151101041</td>\n",
       "    </tr>\n",
       "  </tbody>\n",
       "</table>\n",
       "</div>"
      ],
      "text/plain": [
       "   DateTime  Junction           ID\n",
       "0         0         1  20151101001\n",
       "1         1         1  20151101011\n",
       "2         2         1  20151101021\n",
       "3         3         1  20151101031\n",
       "4         4         1  20151101041"
      ]
     },
     "execution_count": 44,
     "metadata": {},
     "output_type": "execute_result"
    }
   ],
   "source": [
    "x.head()"
   ]
  },
  {
   "cell_type": "code",
   "execution_count": 45,
   "id": "28b195d2-3745-4e69-b1b6-f26e2e22f34c",
   "metadata": {},
   "outputs": [
    {
     "data": {
      "text/plain": [
       "0    15\n",
       "1    13\n",
       "2    10\n",
       "3     7\n",
       "4     9\n",
       "Name: Vehicles, dtype: int64"
      ]
     },
     "execution_count": 45,
     "metadata": {},
     "output_type": "execute_result"
    }
   ],
   "source": [
    "y.head()"
   ]
  },
  {
   "cell_type": "code",
   "execution_count": 46,
   "id": "d2694ceb-3b3d-4267-8362-fa42984cfd03",
   "metadata": {},
   "outputs": [],
   "source": [
    "from sklearn.preprocessing import MinMaxScaler"
   ]
  },
  {
   "cell_type": "code",
   "execution_count": 47,
   "id": "da4f8725-7686-401a-852e-4b48f6874d8c",
   "metadata": {},
   "outputs": [],
   "source": [
    "minmax=MinMaxScaler()"
   ]
  },
  {
   "cell_type": "code",
   "execution_count": 48,
   "id": "cdc35975-7768-4e52-ab1e-dcb451575311",
   "metadata": {},
   "outputs": [],
   "source": [
    "x=minmax.fit_transform(x)"
   ]
  },
  {
   "cell_type": "code",
   "execution_count": 49,
   "id": "59476a5b-25c1-4769-8606-b72e28b6d688",
   "metadata": {},
   "outputs": [
    {
     "data": {
      "text/plain": [
       "array([[0.00000000e+00, 0.00000000e+00, 0.00000000e+00],\n",
       "       [6.85353985e-05, 0.00000000e+00, 5.12053020e-07],\n",
       "       [1.37070797e-04, 0.00000000e+00, 1.02410581e-06],\n",
       "       ...,\n",
       "       [9.99862929e-01, 1.00000000e+00, 9.99998976e-01],\n",
       "       [9.99931465e-01, 1.00000000e+00, 9.99999488e-01],\n",
       "       [1.00000000e+00, 1.00000000e+00, 1.00000000e+00]])"
      ]
     },
     "execution_count": 49,
     "metadata": {},
     "output_type": "execute_result"
    }
   ],
   "source": [
    "x"
   ]
  },
  {
   "cell_type": "code",
   "execution_count": 51,
   "id": "d08dd40f-8ab8-4d65-91ca-5856afb98fb7",
   "metadata": {},
   "outputs": [],
   "source": [
    "x=pd.DataFrame(x,columns=['DateTime', 'Junction', 'ID'])"
   ]
  },
  {
   "cell_type": "code",
   "execution_count": 53,
   "id": "f2bce4cf-9168-4ac0-947b-35ada29ac173",
   "metadata": {},
   "outputs": [
    {
     "data": {
      "text/html": [
       "<div>\n",
       "<style scoped>\n",
       "    .dataframe tbody tr th:only-of-type {\n",
       "        vertical-align: middle;\n",
       "    }\n",
       "\n",
       "    .dataframe tbody tr th {\n",
       "        vertical-align: top;\n",
       "    }\n",
       "\n",
       "    .dataframe thead th {\n",
       "        text-align: right;\n",
       "    }\n",
       "</style>\n",
       "<table border=\"1\" class=\"dataframe\">\n",
       "  <thead>\n",
       "    <tr style=\"text-align: right;\">\n",
       "      <th></th>\n",
       "      <th>DateTime</th>\n",
       "      <th>Junction</th>\n",
       "      <th>ID</th>\n",
       "    </tr>\n",
       "  </thead>\n",
       "  <tbody>\n",
       "    <tr>\n",
       "      <th>0</th>\n",
       "      <td>0.000000</td>\n",
       "      <td>0.0</td>\n",
       "      <td>0.000000e+00</td>\n",
       "    </tr>\n",
       "    <tr>\n",
       "      <th>1</th>\n",
       "      <td>0.000069</td>\n",
       "      <td>0.0</td>\n",
       "      <td>5.120530e-07</td>\n",
       "    </tr>\n",
       "    <tr>\n",
       "      <th>2</th>\n",
       "      <td>0.000137</td>\n",
       "      <td>0.0</td>\n",
       "      <td>1.024106e-06</td>\n",
       "    </tr>\n",
       "    <tr>\n",
       "      <th>3</th>\n",
       "      <td>0.000206</td>\n",
       "      <td>0.0</td>\n",
       "      <td>1.536159e-06</td>\n",
       "    </tr>\n",
       "    <tr>\n",
       "      <th>4</th>\n",
       "      <td>0.000274</td>\n",
       "      <td>0.0</td>\n",
       "      <td>2.048212e-06</td>\n",
       "    </tr>\n",
       "  </tbody>\n",
       "</table>\n",
       "</div>"
      ],
      "text/plain": [
       "   DateTime  Junction            ID\n",
       "0  0.000000       0.0  0.000000e+00\n",
       "1  0.000069       0.0  5.120530e-07\n",
       "2  0.000137       0.0  1.024106e-06\n",
       "3  0.000206       0.0  1.536159e-06\n",
       "4  0.000274       0.0  2.048212e-06"
      ]
     },
     "execution_count": 53,
     "metadata": {},
     "output_type": "execute_result"
    }
   ],
   "source": [
    "x.head()"
   ]
  },
  {
   "cell_type": "code",
   "execution_count": 52,
   "id": "29172b16-b602-4f5c-9f81-449be20ceac2",
   "metadata": {},
   "outputs": [
    {
     "data": {
      "text/html": [
       "<div>\n",
       "<style scoped>\n",
       "    .dataframe tbody tr th:only-of-type {\n",
       "        vertical-align: middle;\n",
       "    }\n",
       "\n",
       "    .dataframe tbody tr th {\n",
       "        vertical-align: top;\n",
       "    }\n",
       "\n",
       "    .dataframe thead th {\n",
       "        text-align: right;\n",
       "    }\n",
       "</style>\n",
       "<table border=\"1\" class=\"dataframe\">\n",
       "  <thead>\n",
       "    <tr style=\"text-align: right;\">\n",
       "      <th></th>\n",
       "      <th>DateTime</th>\n",
       "      <th>Junction</th>\n",
       "      <th>ID</th>\n",
       "      <th>Vehicles</th>\n",
       "    </tr>\n",
       "  </thead>\n",
       "  <tbody>\n",
       "    <tr>\n",
       "      <th>0</th>\n",
       "      <td>0.000000</td>\n",
       "      <td>0.0</td>\n",
       "      <td>0.000000e+00</td>\n",
       "      <td>15</td>\n",
       "    </tr>\n",
       "    <tr>\n",
       "      <th>1</th>\n",
       "      <td>0.000069</td>\n",
       "      <td>0.0</td>\n",
       "      <td>5.120530e-07</td>\n",
       "      <td>13</td>\n",
       "    </tr>\n",
       "    <tr>\n",
       "      <th>2</th>\n",
       "      <td>0.000137</td>\n",
       "      <td>0.0</td>\n",
       "      <td>1.024106e-06</td>\n",
       "      <td>10</td>\n",
       "    </tr>\n",
       "    <tr>\n",
       "      <th>3</th>\n",
       "      <td>0.000206</td>\n",
       "      <td>0.0</td>\n",
       "      <td>1.536159e-06</td>\n",
       "      <td>7</td>\n",
       "    </tr>\n",
       "    <tr>\n",
       "      <th>4</th>\n",
       "      <td>0.000274</td>\n",
       "      <td>0.0</td>\n",
       "      <td>2.048212e-06</td>\n",
       "      <td>9</td>\n",
       "    </tr>\n",
       "    <tr>\n",
       "      <th>...</th>\n",
       "      <td>...</td>\n",
       "      <td>...</td>\n",
       "      <td>...</td>\n",
       "      <td>...</td>\n",
       "    </tr>\n",
       "    <tr>\n",
       "      <th>48115</th>\n",
       "      <td>0.999726</td>\n",
       "      <td>1.0</td>\n",
       "      <td>9.999980e-01</td>\n",
       "      <td>11</td>\n",
       "    </tr>\n",
       "    <tr>\n",
       "      <th>48116</th>\n",
       "      <td>0.999794</td>\n",
       "      <td>1.0</td>\n",
       "      <td>9.999985e-01</td>\n",
       "      <td>30</td>\n",
       "    </tr>\n",
       "    <tr>\n",
       "      <th>48117</th>\n",
       "      <td>0.999863</td>\n",
       "      <td>1.0</td>\n",
       "      <td>9.999990e-01</td>\n",
       "      <td>16</td>\n",
       "    </tr>\n",
       "    <tr>\n",
       "      <th>48118</th>\n",
       "      <td>0.999931</td>\n",
       "      <td>1.0</td>\n",
       "      <td>9.999995e-01</td>\n",
       "      <td>22</td>\n",
       "    </tr>\n",
       "    <tr>\n",
       "      <th>48119</th>\n",
       "      <td>1.000000</td>\n",
       "      <td>1.0</td>\n",
       "      <td>1.000000e+00</td>\n",
       "      <td>12</td>\n",
       "    </tr>\n",
       "  </tbody>\n",
       "</table>\n",
       "<p>48120 rows × 4 columns</p>\n",
       "</div>"
      ],
      "text/plain": [
       "       DateTime  Junction            ID  Vehicles\n",
       "0      0.000000       0.0  0.000000e+00        15\n",
       "1      0.000069       0.0  5.120530e-07        13\n",
       "2      0.000137       0.0  1.024106e-06        10\n",
       "3      0.000206       0.0  1.536159e-06         7\n",
       "4      0.000274       0.0  2.048212e-06         9\n",
       "...         ...       ...           ...       ...\n",
       "48115  0.999726       1.0  9.999980e-01        11\n",
       "48116  0.999794       1.0  9.999985e-01        30\n",
       "48117  0.999863       1.0  9.999990e-01        16\n",
       "48118  0.999931       1.0  9.999995e-01        22\n",
       "48119  1.000000       1.0  1.000000e+00        12\n",
       "\n",
       "[48120 rows x 4 columns]"
      ]
     },
     "execution_count": 52,
     "metadata": {},
     "output_type": "execute_result"
    }
   ],
   "source": [
    "output=pd.concat([x,y],axis=1)\n",
    "output"
   ]
  },
  {
   "cell_type": "code",
   "execution_count": 54,
   "id": "563fc028-352f-4988-8f20-682c433cbb42",
   "metadata": {},
   "outputs": [
    {
     "data": {
      "text/html": [
       "<div>\n",
       "<style scoped>\n",
       "    .dataframe tbody tr th:only-of-type {\n",
       "        vertical-align: middle;\n",
       "    }\n",
       "\n",
       "    .dataframe tbody tr th {\n",
       "        vertical-align: top;\n",
       "    }\n",
       "\n",
       "    .dataframe thead th {\n",
       "        text-align: right;\n",
       "    }\n",
       "</style>\n",
       "<table border=\"1\" class=\"dataframe\">\n",
       "  <thead>\n",
       "    <tr style=\"text-align: right;\">\n",
       "      <th></th>\n",
       "      <th>DateTime</th>\n",
       "      <th>Junction</th>\n",
       "      <th>ID</th>\n",
       "      <th>Vehicles</th>\n",
       "    </tr>\n",
       "  </thead>\n",
       "  <tbody>\n",
       "    <tr>\n",
       "      <th>count</th>\n",
       "      <td>48120.000000</td>\n",
       "      <td>48120.000000</td>\n",
       "      <td>48120.000000</td>\n",
       "      <td>48120.000000</td>\n",
       "    </tr>\n",
       "    <tr>\n",
       "      <th>mean</th>\n",
       "      <td>0.531702</td>\n",
       "      <td>0.393516</td>\n",
       "      <td>0.624781</td>\n",
       "      <td>22.791334</td>\n",
       "    </tr>\n",
       "    <tr>\n",
       "      <th>std</th>\n",
       "      <td>0.294308</td>\n",
       "      <td>0.322318</td>\n",
       "      <td>0.304408</td>\n",
       "      <td>20.750063</td>\n",
       "    </tr>\n",
       "    <tr>\n",
       "      <th>min</th>\n",
       "      <td>0.000000</td>\n",
       "      <td>0.000000</td>\n",
       "      <td>0.000000</td>\n",
       "      <td>1.000000</td>\n",
       "    </tr>\n",
       "    <tr>\n",
       "      <th>25%</th>\n",
       "      <td>0.274810</td>\n",
       "      <td>0.000000</td>\n",
       "      <td>0.476978</td>\n",
       "      <td>9.000000</td>\n",
       "    </tr>\n",
       "    <tr>\n",
       "      <th>50%</th>\n",
       "      <td>0.549620</td>\n",
       "      <td>0.333333</td>\n",
       "      <td>0.503299</td>\n",
       "      <td>15.000000</td>\n",
       "    </tr>\n",
       "    <tr>\n",
       "      <th>75%</th>\n",
       "      <td>0.793914</td>\n",
       "      <td>0.666667</td>\n",
       "      <td>0.979258</td>\n",
       "      <td>29.000000</td>\n",
       "    </tr>\n",
       "    <tr>\n",
       "      <th>max</th>\n",
       "      <td>1.000000</td>\n",
       "      <td>1.000000</td>\n",
       "      <td>1.000000</td>\n",
       "      <td>180.000000</td>\n",
       "    </tr>\n",
       "  </tbody>\n",
       "</table>\n",
       "</div>"
      ],
      "text/plain": [
       "           DateTime      Junction            ID      Vehicles\n",
       "count  48120.000000  48120.000000  48120.000000  48120.000000\n",
       "mean       0.531702      0.393516      0.624781     22.791334\n",
       "std        0.294308      0.322318      0.304408     20.750063\n",
       "min        0.000000      0.000000      0.000000      1.000000\n",
       "25%        0.274810      0.000000      0.476978      9.000000\n",
       "50%        0.549620      0.333333      0.503299     15.000000\n",
       "75%        0.793914      0.666667      0.979258     29.000000\n",
       "max        1.000000      1.000000      1.000000    180.000000"
      ]
     },
     "execution_count": 54,
     "metadata": {},
     "output_type": "execute_result"
    }
   ],
   "source": [
    "output.describe()"
   ]
  },
  {
   "cell_type": "code",
   "execution_count": null,
   "id": "18a29828-5b10-4e17-9058-70bed985b7db",
   "metadata": {},
   "outputs": [],
   "source": []
  },
  {
   "cell_type": "code",
   "execution_count": 55,
   "id": "3061d0a6-7789-43bd-8c34-fd2d424319ca",
   "metadata": {},
   "outputs": [
    {
     "data": {
      "text/html": [
       "<div>\n",
       "<style scoped>\n",
       "    .dataframe tbody tr th:only-of-type {\n",
       "        vertical-align: middle;\n",
       "    }\n",
       "\n",
       "    .dataframe tbody tr th {\n",
       "        vertical-align: top;\n",
       "    }\n",
       "\n",
       "    .dataframe thead th {\n",
       "        text-align: right;\n",
       "    }\n",
       "</style>\n",
       "<table border=\"1\" class=\"dataframe\">\n",
       "  <thead>\n",
       "    <tr style=\"text-align: right;\">\n",
       "      <th></th>\n",
       "      <th>DateTime</th>\n",
       "      <th>Junction</th>\n",
       "      <th>ID</th>\n",
       "      <th>Vehicles</th>\n",
       "    </tr>\n",
       "  </thead>\n",
       "  <tbody>\n",
       "    <tr>\n",
       "      <th>DateTime</th>\n",
       "      <td>1.000000</td>\n",
       "      <td>0.202688</td>\n",
       "      <td>0.900052</td>\n",
       "      <td>0.266244</td>\n",
       "    </tr>\n",
       "    <tr>\n",
       "      <th>Junction</th>\n",
       "      <td>0.202688</td>\n",
       "      <td>1.000000</td>\n",
       "      <td>0.221876</td>\n",
       "      <td>-0.613787</td>\n",
       "    </tr>\n",
       "    <tr>\n",
       "      <th>ID</th>\n",
       "      <td>0.900052</td>\n",
       "      <td>0.221876</td>\n",
       "      <td>1.000000</td>\n",
       "      <td>0.227974</td>\n",
       "    </tr>\n",
       "    <tr>\n",
       "      <th>Vehicles</th>\n",
       "      <td>0.266244</td>\n",
       "      <td>-0.613787</td>\n",
       "      <td>0.227974</td>\n",
       "      <td>1.000000</td>\n",
       "    </tr>\n",
       "  </tbody>\n",
       "</table>\n",
       "</div>"
      ],
      "text/plain": [
       "          DateTime  Junction        ID  Vehicles\n",
       "DateTime  1.000000  0.202688  0.900052  0.266244\n",
       "Junction  0.202688  1.000000  0.221876 -0.613787\n",
       "ID        0.900052  0.221876  1.000000  0.227974\n",
       "Vehicles  0.266244 -0.613787  0.227974  1.000000"
      ]
     },
     "execution_count": 55,
     "metadata": {},
     "output_type": "execute_result"
    }
   ],
   "source": [
    "output.corr()"
   ]
  },
  {
   "cell_type": "code",
   "execution_count": 56,
   "id": "82860c26-8419-41c6-9fd8-6bff54db4de2",
   "metadata": {},
   "outputs": [
    {
     "data": {
      "text/plain": [
       "<Axes: >"
      ]
     },
     "execution_count": 56,
     "metadata": {},
     "output_type": "execute_result"
    },
    {
     "data": {
      "image/png": "[encoded data removed]",
      "text/plain": [
       "<Figure size 640x480 with 2 Axes>"
      ]
     },
     "metadata": {},
     "output_type": "display_data"
    }
   ],
   "source": [
    "sns.heatmap(output.corr())"
   ]
  },
  {
   "cell_type": "markdown",
   "id": "7d7c97af-7ec0-426a-a1e6-3a3e8c604f6f",
   "metadata": {},
   "source": [
    "# Model Training"
   ]
  },
  {
   "cell_type": "markdown",
   "id": "952ee742-0258-4b17-b028-ac8764ae9d66",
   "metadata": {},
   "source": [
    "# Linear Regression"
   ]
  },
  {
   "cell_type": "code",
   "execution_count": 57,
   "id": "f4fc9375-5a63-46cb-ab22-83a68aedcc37",
   "metadata": {},
   "outputs": [],
   "source": [
    "x=output.drop('Vehicles',axis=1)\n",
    "y=output['Vehicles']"
   ]
  },
  {
   "cell_type": "code",
   "execution_count": 58,
   "id": "b92c0091-8123-46d5-a5de-f1aee15350ca",
   "metadata": {},
   "outputs": [],
   "source": [
    "from sklearn.model_selection import train_test_split"
   ]
  },
  {
   "cell_type": "code",
   "execution_count": 59,
   "id": "938af3b6-a96f-44c1-9428-20b80ffd47ec",
   "metadata": {},
   "outputs": [],
   "source": [
    "x_train,x_test,y_train,y_test=train_test_split(x,y,test_size=0.25,random_state=42)"
   ]
  },
  {
   "cell_type": "code",
   "execution_count": 60,
   "id": "61e38a35-b356-4011-aa4b-5a1351d2f9d6",
   "metadata": {},
   "outputs": [],
   "source": [
    "from sklearn.linear_model import LinearRegression"
   ]
  },
  {
   "cell_type": "code",
   "execution_count": 61,
   "id": "fd01309a-fe6c-4a98-a418-d6e3c83727e1",
   "metadata": {},
   "outputs": [],
   "source": [
    "lr=LinearRegression()"
   ]
  },
  {
   "cell_type": "code",
   "execution_count": 62,
   "id": "3537397c-b193-4e1a-8871-2e81c85c0d86",
   "metadata": {},
   "outputs": [],
   "source": [
    "model_lr=lr.fit(x_train,y_train)"
   ]
  },
  {
   "cell_type": "code",
   "execution_count": 63,
   "id": "942972b1-6db8-4caf-8044-3d0c2d973a0c",
   "metadata": {},
   "outputs": [],
   "source": [
    "y_pred=model_lr.predict(x_test)"
   ]
  },
  {
   "cell_type": "code",
   "execution_count": 64,
   "id": "c62b8827-6ebb-4b11-835d-87ad0f4ec75b",
   "metadata": {},
   "outputs": [],
   "source": [
    "from sklearn.metrics import mean_squared_error,r2_score"
   ]
  },
  {
   "cell_type": "code",
   "execution_count": 65,
   "id": "0c39d925-c8c1-4fa2-b626-d9dc09013482",
   "metadata": {},
   "outputs": [
    {
     "name": "stdout",
     "output_type": "stream",
     "text": [
      "191.60112792495374\n"
     ]
    }
   ],
   "source": [
    "print(mean_squared_error(y_test,y_pred))"
   ]
  },
  {
   "cell_type": "code",
   "execution_count": 66,
   "id": "bf5734af-1d28-4c6a-ba24-1af4b1650def",
   "metadata": {},
   "outputs": [
    {
     "name": "stdout",
     "output_type": "stream",
     "text": [
      "0.5339291429804685\n"
     ]
    }
   ],
   "source": [
    "print(r2_score(y_test,y_pred))"
   ]
  },
  {
   "cell_type": "code",
   "execution_count": null,
   "id": "0a65f4ce-be14-4a84-b085-aae8eb28d95d",
   "metadata": {},
   "outputs": [],
   "source": [
    "# Accuracy 53%"
   ]
  },
  {
   "cell_type": "markdown",
   "id": "f8194b22-7ed5-4b51-80d6-afd5173df689",
   "metadata": {},
   "source": [
    "# SVM"
   ]
  },
  {
   "cell_type": "code",
   "execution_count": 67,
   "id": "2ba2574e-2d18-4255-8c68-eb6f10693c81",
   "metadata": {},
   "outputs": [],
   "source": [
    "from sklearn.model_selection import train_test_split"
   ]
  },
  {
   "cell_type": "code",
   "execution_count": 68,
   "id": "2be4f780-7306-42c8-90ea-5872727a44ca",
   "metadata": {},
   "outputs": [],
   "source": [
    "x_train,x_test,y_train,y_test=train_test_split(x,y,test_size=0.25,random_state=42)"
   ]
  },
  {
   "cell_type": "code",
   "execution_count": 69,
   "id": "72ecf51f-cd9e-42f2-b99b-15280f06ca82",
   "metadata": {},
   "outputs": [],
   "source": [
    "from sklearn.svm import SVR"
   ]
  },
  {
   "cell_type": "code",
   "execution_count": 70,
   "id": "403a3577-81ad-4c2d-a900-926a9c0e6047",
   "metadata": {},
   "outputs": [],
   "source": [
    "svm_reg=SVR(kernel='rbf')"
   ]
  },
  {
   "cell_type": "code",
   "execution_count": 71,
   "id": "293dd662-2873-485c-bb44-5f117aa15cbc",
   "metadata": {},
   "outputs": [],
   "source": [
    "svm_model=svm_reg.fit(x_train,y_train)"
   ]
  },
  {
   "cell_type": "code",
   "execution_count": 72,
   "id": "6259eacf-224b-4f87-bb4a-1d0a19f60a10",
   "metadata": {},
   "outputs": [],
   "source": [
    "y_pred_svm=svm_model.predict(x_test)"
   ]
  },
  {
   "cell_type": "code",
   "execution_count": 73,
   "id": "08d463bc-66a5-4776-bc0c-c6ac6c21f386",
   "metadata": {},
   "outputs": [],
   "source": [
    "from sklearn.metrics import mean_squared_error,r2_score"
   ]
  },
  {
   "cell_type": "code",
   "execution_count": 76,
   "id": "85e9711b-e9fe-40bf-b958-1e22c95ce874",
   "metadata": {},
   "outputs": [
    {
     "name": "stdout",
     "output_type": "stream",
     "text": [
      "119.49800625831277\n"
     ]
    }
   ],
   "source": [
    "print(mean_squared_error(y_test,y_pred_svm))"
   ]
  },
  {
   "cell_type": "code",
   "execution_count": 77,
   "id": "1f871c45-6ed8-413d-93d3-1ca4cbe9f829",
   "metadata": {},
   "outputs": [
    {
     "name": "stdout",
     "output_type": "stream",
     "text": [
      "0.7093204054062167\n"
     ]
    }
   ],
   "source": [
    "print(r2_score(y_test,y_pred_svm))"
   ]
  },
  {
   "cell_type": "code",
   "execution_count": null,
   "id": "a181c46a-d7d0-4a90-b775-6f69af789853",
   "metadata": {},
   "outputs": [],
   "source": [
    "# Accuracy 70%"
   ]
  },
  {
   "cell_type": "markdown",
   "id": "57c5f648-6710-48d9-829b-c694cafde0be",
   "metadata": {},
   "source": [
    "# Decision Tree"
   ]
  },
  {
   "cell_type": "code",
   "execution_count": 78,
   "id": "e56f4f57-87e1-4cf8-9a38-15d2c3c32469",
   "metadata": {},
   "outputs": [],
   "source": [
    "from sklearn.model_selection import train_test_split"
   ]
  },
  {
   "cell_type": "code",
   "execution_count": 79,
   "id": "1ac8b360-c117-41d4-9375-db31318c4014",
   "metadata": {},
   "outputs": [],
   "source": [
    "x_train,x_test,y_train,y_test=train_test_split(x,y,test_size=0.25,random_state=42)"
   ]
  },
  {
   "cell_type": "code",
   "execution_count": 80,
   "id": "7efe69f6-0681-42de-a03a-18e6c363f40f",
   "metadata": {},
   "outputs": [],
   "source": [
    "from sklearn.tree import DecisionTreeRegressor"
   ]
  },
  {
   "cell_type": "code",
   "execution_count": 81,
   "id": "11817e66-557a-4b8f-94d1-f31c5a8a5399",
   "metadata": {},
   "outputs": [],
   "source": [
    "dt_reg= DecisionTreeRegressor(random_state=42)"
   ]
  },
  {
   "cell_type": "code",
   "execution_count": 82,
   "id": "30b4729b-5d93-4176-9a24-bbd20df9ccd5",
   "metadata": {},
   "outputs": [],
   "source": [
    "dt_model=dt_reg.fit(x_train,y_train)"
   ]
  },
  {
   "cell_type": "code",
   "execution_count": 83,
   "id": "8a72219c-6595-408e-85bf-204f875d5abd",
   "metadata": {},
   "outputs": [],
   "source": [
    "y_pred_dt=dt_model.predict(x_test)"
   ]
  },
  {
   "cell_type": "code",
   "execution_count": 84,
   "id": "a4ff0e4b-b01c-48b2-a532-2e9e2eeb56f1",
   "metadata": {},
   "outputs": [],
   "source": [
    "from sklearn.metrics import mean_squared_error,r2_score"
   ]
  },
  {
   "cell_type": "code",
   "execution_count": 85,
   "id": "0ac2074d-5bb8-40cd-ba51-10ba0e5c2d89",
   "metadata": {},
   "outputs": [
    {
     "name": "stdout",
     "output_type": "stream",
     "text": [
      "25.025187032418952\n"
     ]
    }
   ],
   "source": [
    "print(mean_squared_error(y_test,y_pred_dt))"
   ]
  },
  {
   "cell_type": "code",
   "execution_count": 86,
   "id": "37d0ed57-b9dd-4a8d-b577-d1840a6f321f",
   "metadata": {},
   "outputs": [
    {
     "name": "stdout",
     "output_type": "stream",
     "text": [
      "0.9391260871290803\n"
     ]
    }
   ],
   "source": [
    "print(r2_score(y_test,y_pred_dt))"
   ]
  },
  {
   "cell_type": "code",
   "execution_count": null,
   "id": "afb2868c-a133-45ea-bba1-3da92c93ce0a",
   "metadata": {},
   "outputs": [],
   "source": [
    "# Accuracy 93%"
   ]
  },
  {
   "cell_type": "markdown",
   "id": "ad1be8d4-58a9-41cc-b5fb-c390cd00ac47",
   "metadata": {},
   "source": [
    "# KNN"
   ]
  },
  {
   "cell_type": "code",
   "execution_count": 87,
   "id": "fa3b7d6b-ca70-4634-9ca0-b5aa3a73a49b",
   "metadata": {},
   "outputs": [],
   "source": [
    "from sklearn.model_selection import train_test_split"
   ]
  },
  {
   "cell_type": "code",
   "execution_count": 88,
   "id": "7bf26032-7c17-441b-9487-8fd86ff64c1f",
   "metadata": {},
   "outputs": [],
   "source": [
    "x_train,x_test,y_train,y_test=train_test_split(x,y,test_size=0.25,random_state=42)"
   ]
  },
  {
   "cell_type": "code",
   "execution_count": 89,
   "id": "0567961d-2bf9-48a6-83bd-3d6b3a9d723b",
   "metadata": {},
   "outputs": [],
   "source": [
    "from sklearn.neighbors import KNeighborsRegressor"
   ]
  },
  {
   "cell_type": "code",
   "execution_count": 90,
   "id": "c7679eb1-98ff-419d-ae1d-db239de15b0b",
   "metadata": {},
   "outputs": [],
   "source": [
    "metric_k=[]"
   ]
  },
  {
   "cell_type": "code",
   "execution_count": 91,
   "id": "5d9142e6-589a-4c00-ad63-30f439b5804f",
   "metadata": {},
   "outputs": [],
   "source": [
    "neighbors=np.arange(4,15)"
   ]
  },
  {
   "cell_type": "code",
   "execution_count": 93,
   "id": "d2228849-b55a-4e55-8dde-c27d2ea5ceca",
   "metadata": {},
   "outputs": [],
   "source": [
    "for k in neighbors:\n",
    "    knn=KNeighborsRegressor(n_neighbors=k)\n",
    "    model_knn=knn.fit(x_train,y_train)\n",
    "    y_pred_knn=model_knn.predict(x_test)\n",
    "    accuracy=r2_score(y_test,y_pred_knn)\n",
    "    metric_k.append(accuracy)"
   ]
  },
  {
   "cell_type": "code",
   "execution_count": 94,
   "id": "8af7769b-3748-4615-ad67-97be29a3560e",
   "metadata": {},
   "outputs": [
    {
     "data": {
      "text/plain": [
       "[0.9505978644027818,\n",
       " 0.9435145217268109,\n",
       " 0.9349859912216952,\n",
       " 0.9238024766019649,\n",
       " 0.9125645656382775,\n",
       " 0.8991602385831884,\n",
       " 0.8853230965958585,\n",
       " 0.87127607987486,\n",
       " 0.8579942222803694,\n",
       " 0.8439859196684429,\n",
       " 0.8298773526909433]"
      ]
     },
     "execution_count": 94,
     "metadata": {},
     "output_type": "execute_result"
    }
   ],
   "source": [
    "metric_k"
   ]
  },
  {
   "cell_type": "code",
   "execution_count": 98,
   "id": "e610d3d0-2f78-44f8-9a3d-4deeafdc21f4",
   "metadata": {},
   "outputs": [
    {
     "data": {
      "image/png": "[encoded data removed]",
      "text/plain": [
       "<Figure size 640x480 with 1 Axes>"
      ]
     },
     "metadata": {},
     "output_type": "display_data"
    }
   ],
   "source": [
    "plt.plot(neighbors,metric_k,'*--',color='y')\n",
    "plt.xlabel('K Value')\n",
    "plt.ylabel('Accuracy')\n",
    "plt.grid()"
   ]
  },
  {
   "cell_type": "code",
   "execution_count": 99,
   "id": "524dfb5e-b9c0-4583-93f7-848f6fb6a55b",
   "metadata": {},
   "outputs": [],
   "source": [
    "knn=KNeighborsRegressor(n_neighbors=4)\n",
    "model_knn=knn.fit(x_train,y_train)\n",
    "y_pred_knn=model_knn.predict(x_test)"
   ]
  },
  {
   "cell_type": "code",
   "execution_count": 100,
   "id": "73be9231-4bf8-4efb-9722-f6c525b91388",
   "metadata": {},
   "outputs": [],
   "source": [
    "from sklearn.metrics import mean_squared_error,r2_score"
   ]
  },
  {
   "cell_type": "code",
   "execution_count": 101,
   "id": "6520670a-7ec1-43ab-955f-9cbff6b0cdb5",
   "metadata": {},
   "outputs": [
    {
     "name": "stdout",
     "output_type": "stream",
     "text": [
      "20.309154197838737\n"
     ]
    }
   ],
   "source": [
    "print(mean_squared_error(y_test,y_pred_knn))"
   ]
  },
  {
   "cell_type": "code",
   "execution_count": 102,
   "id": "ae67346a-49d6-463c-ad25-6eea831c57a7",
   "metadata": {},
   "outputs": [
    {
     "name": "stdout",
     "output_type": "stream",
     "text": [
      "0.9505978644027818\n"
     ]
    }
   ],
   "source": [
    "print(r2_score(y_test,y_pred_knn))"
   ]
  },
  {
   "cell_type": "code",
   "execution_count": null,
   "id": "b12ad2c6-adfd-41ab-80fd-d34b5784fc67",
   "metadata": {},
   "outputs": [],
   "source": [
    "# Accuracy 95%"
   ]
  },
  {
   "cell_type": "markdown",
   "id": "46cb20d8-7140-4952-8b04-dc4223021cc5",
   "metadata": {},
   "source": [
    "# Random Forest"
   ]
  },
  {
   "cell_type": "code",
   "execution_count": 103,
   "id": "252901bd-cb55-46a7-a545-9819e4c43b54",
   "metadata": {},
   "outputs": [],
   "source": [
    "from sklearn.model_selection import train_test_split"
   ]
  },
  {
   "cell_type": "code",
   "execution_count": 105,
   "id": "2ee043fd-7a63-4253-b2f3-521dbd3bd22a",
   "metadata": {},
   "outputs": [],
   "source": [
    "from sklearn.ensemble import RandomForestRegressor"
   ]
  },
  {
   "cell_type": "code",
   "execution_count": 106,
   "id": "d68a433c-2847-489e-a5a1-60c07d0d9955",
   "metadata": {},
   "outputs": [],
   "source": [
    "rf_reg= RandomForestRegressor(random_state=42)"
   ]
  },
  {
   "cell_type": "code",
   "execution_count": 107,
   "id": "765365c2-cf50-4fc1-b3ca-0ac10cacb3ee",
   "metadata": {},
   "outputs": [],
   "source": [
    "rf_model=rf_reg.fit(x_train,y_train)"
   ]
  },
  {
   "cell_type": "code",
   "execution_count": 108,
   "id": "e884c7e4-4c00-401d-8214-586f6e2813cf",
   "metadata": {},
   "outputs": [],
   "source": [
    "y_pred_rf=rf_model.predict(x_test)"
   ]
  },
  {
   "cell_type": "code",
   "execution_count": 109,
   "id": "8f7544e5-209f-4321-bab4-e9e0c3c03e1d",
   "metadata": {},
   "outputs": [],
   "source": [
    "from sklearn.metrics import mean_squared_error,r2_score"
   ]
  },
  {
   "cell_type": "code",
   "execution_count": 110,
   "id": "e49e9bb6-35af-45db-a24d-93cbe2c7f2fa",
   "metadata": {},
   "outputs": [
    {
     "name": "stdout",
     "output_type": "stream",
     "text": [
      "16.155188270989193\n"
     ]
    }
   ],
   "source": [
    "print(mean_squared_error(y_test,y_pred_rf))"
   ]
  },
  {
   "cell_type": "code",
   "execution_count": 111,
   "id": "bf9a6bf5-c7e0-4e03-a9e4-f429efbb70f7",
   "metadata": {},
   "outputs": [
    {
     "name": "stdout",
     "output_type": "stream",
     "text": [
      "0.9607024106574104\n"
     ]
    }
   ],
   "source": [
    "print(r2_score(y_test,y_pred_rf))"
   ]
  },
  {
   "cell_type": "code",
   "execution_count": null,
   "id": "b5e31665-b135-44cb-baf5-91c8cb2d8649",
   "metadata": {},
   "outputs": [],
   "source": [
    "# Accuracy 96"
   ]
  },
  {
   "cell_type": "markdown",
   "id": "e638eda9-65cf-424a-a729-c81cebb6cb37",
   "metadata": {},
   "source": [
    "# BOOSTING\n",
    "## Ada Boost"
   ]
  },
  {
   "cell_type": "code",
   "execution_count": 112,
   "id": "822f15a6-4e3e-46e5-b2c7-d974b5620954",
   "metadata": {},
   "outputs": [],
   "source": [
    "from sklearn.ensemble import AdaBoostRegressor"
   ]
  },
  {
   "cell_type": "code",
   "execution_count": 113,
   "id": "af08b9a4-8b34-4416-a5df-a4f97883ef54",
   "metadata": {},
   "outputs": [
    {
     "data": {
      "text/plain": [
       "array([21.19509491, 28.38878439, 22.12362591, ..., 25.9208589 ,\n",
       "       15.49968704, 22.12362591])"
      ]
     },
     "execution_count": 113,
     "metadata": {},
     "output_type": "execute_result"
    }
   ],
   "source": [
    "model_ada= AdaBoostRegressor()\n",
    "model_ada.fit(x_train,y_train)\n",
    "pred_ada= model_ada.predict(x_test)\n",
    "pred_ada"
   ]
  },
  {
   "cell_type": "code",
   "execution_count": 114,
   "id": "1daf979d-e88d-45b1-80f0-c353825ee383",
   "metadata": {},
   "outputs": [],
   "source": [
    "from sklearn.metrics import mean_squared_error,r2_score"
   ]
  },
  {
   "cell_type": "code",
   "execution_count": 115,
   "id": "58bf8347-676b-472a-847e-06398bea5f69",
   "metadata": {},
   "outputs": [
    {
     "name": "stdout",
     "output_type": "stream",
     "text": [
      "170.62715553167197\n"
     ]
    }
   ],
   "source": [
    "print(mean_squared_error(y_test,pred_ada))"
   ]
  },
  {
   "cell_type": "code",
   "execution_count": 116,
   "id": "21373dfb-9934-4df9-9c82-6cb6d2242541",
   "metadata": {},
   "outputs": [
    {
     "name": "stdout",
     "output_type": "stream",
     "text": [
      "0.5849484527011797\n"
     ]
    }
   ],
   "source": [
    "print(mean_squared_error(y_test,pred_ada))"
   ]
  },
  {
   "cell_type": "markdown",
   "id": "88c75624-15c9-4bf0-a47f-fe5e36815f47",
   "metadata": {},
   "source": [
    "## Gradient Boosting "
   ]
  },
  {
   "cell_type": "code",
   "execution_count": 117,
   "id": "ce614c85-88fb-48b8-b252-2a062c4fbbfb",
   "metadata": {},
   "outputs": [],
   "source": [
    "from sklearn.ensemble import GradientBoostingRegressor"
   ]
  },
  {
   "cell_type": "code",
   "execution_count": 118,
   "id": "801196df-99c8-4846-8e0c-1041e638ed5d",
   "metadata": {},
   "outputs": [
    {
     "data": {
      "text/plain": [
       "array([13.37035232, 13.93570069, 18.81754188, ..., 21.21666449,\n",
       "       11.890291  , 17.97263321])"
      ]
     },
     "execution_count": 118,
     "metadata": {},
     "output_type": "execute_result"
    }
   ],
   "source": [
    "model_gra= GradientBoostingRegressor()\n",
    "model_gra.fit(x_train,y_train)\n",
    "pred_gra = model_gra.predict(x_test)\n",
    "pred_gra"
   ]
  },
  {
   "cell_type": "code",
   "execution_count": 119,
   "id": "0dc7164d-c7d0-49d6-a286-d2b48fe3b428",
   "metadata": {},
   "outputs": [],
   "source": [
    "from sklearn.metrics import mean_squared_error,r2_score"
   ]
  },
  {
   "cell_type": "code",
   "execution_count": 120,
   "id": "941a47ce-99ac-4efa-80fa-d0e0b407f291",
   "metadata": {},
   "outputs": [
    {
     "name": "stdout",
     "output_type": "stream",
     "text": [
      "107.61418690315726\n"
     ]
    }
   ],
   "source": [
    "print(mean_squared_error(y_test,pred_gra))"
   ]
  },
  {
   "cell_type": "code",
   "execution_count": 122,
   "id": "ee71a712-2f68-4bc5-80cc-321950ce1956",
   "metadata": {},
   "outputs": [
    {
     "name": "stdout",
     "output_type": "stream",
     "text": [
      "0.738227865041277\n"
     ]
    }
   ],
   "source": [
    "print(r2_score(y_test,pred_gra))"
   ]
  },
  {
   "cell_type": "markdown",
   "id": "b4ebcf55-5f81-4cf2-836f-aa1ac86a8cd7",
   "metadata": {},
   "source": [
    "## XG Boost"
   ]
  },
  {
   "cell_type": "code",
   "execution_count": 123,
   "id": "7ed56c1e-2369-4b99-99b7-ffe28cda0d69",
   "metadata": {},
   "outputs": [
    {
     "name": "stdout",
     "output_type": "stream",
     "text": [
      "Requirement already satisfied: xgboost in c:\\users\\asus\\anaconda3\\lib\\site-packages (2.1.1)\n",
      "Requirement already satisfied: numpy in c:\\users\\asus\\anaconda3\\lib\\site-packages (from xgboost) (1.26.4)\n",
      "Requirement already satisfied: scipy in c:\\users\\asus\\anaconda3\\lib\\site-packages (from xgboost) (1.11.4)\n",
      "Note: you may need to restart the kernel to use updated packages.\n"
     ]
    }
   ],
   "source": [
    "pip install xgboost"
   ]
  },
  {
   "cell_type": "code",
   "execution_count": 124,
   "id": "4f085a69-0315-4b44-8a80-8848d4578809",
   "metadata": {},
   "outputs": [
    {
     "data": {
      "text/plain": [
       "array([ 9.387291, 17.62755 , 21.000998, ..., 17.377909, 10.466055,\n",
       "       15.553203], dtype=float32)"
      ]
     },
     "execution_count": 124,
     "metadata": {},
     "output_type": "execute_result"
    }
   ],
   "source": [
    "from xgboost import XGBRegressor\n",
    "model_xgb = XGBRegressor()\n",
    "model_xgb.fit(x_train,y_train)\n",
    "pred_xgb = model_xgb.predict(x_test)\n",
    "pred_xgb"
   ]
  },
  {
   "cell_type": "code",
   "execution_count": 125,
   "id": "4135f744-8d42-4d90-b543-e033578a1c84",
   "metadata": {},
   "outputs": [],
   "source": [
    "from sklearn.metrics import mean_squared_error,r2_score"
   ]
  },
  {
   "cell_type": "code",
   "execution_count": 126,
   "id": "d49a8502-1c31-4d24-83d2-722e0a491fd8",
   "metadata": {},
   "outputs": [
    {
     "name": "stdout",
     "output_type": "stream",
     "text": [
      "96.53285600041629\n"
     ]
    }
   ],
   "source": [
    "print(mean_squared_error(y_test,pred_xgb))"
   ]
  },
  {
   "cell_type": "code",
   "execution_count": 127,
   "id": "dca92b57-4586-4fd1-af21-1fc597d21e32",
   "metadata": {},
   "outputs": [
    {
     "name": "stdout",
     "output_type": "stream",
     "text": [
      "0.7651832668527966\n"
     ]
    }
   ],
   "source": [
    "print(r2_score(y_test,pred_xgb))"
   ]
  },
  {
   "cell_type": "markdown",
   "id": "33fbdff9-2598-4c13-b69b-4ca23b28e0e6",
   "metadata": {},
   "source": [
    "# Performance Analysis"
   ]
  },
  {
   "cell_type": "code",
   "execution_count": 137,
   "id": "9d443155-6da5-49cd-b89d-b84f7f0829f2",
   "metadata": {},
   "outputs": [],
   "source": [
    "lg_scorde  =53 # Linear Regression\n",
    "svm_scorde =70 # support vector\n",
    "knn_scorde =95 # k nearest\n",
    "dt_scorde  =93 # random forest\n",
    "rf_scorde  =96 # decision tree\n",
    "xgb_scorde =76 # boosting"
   ]
  },
  {
   "cell_type": "code",
   "execution_count": 147,
   "id": "6a2de378-b88f-4501-b33e-3a9f544fce3f",
   "metadata": {},
   "outputs": [
    {
     "data": {
      "image/png": "[encoded data removed]",
      "text/plain": [
       "<Figure size 1000x500 with 1 Axes>"
      ]
     },
     "metadata": {},
     "output_type": "display_data"
    }
   ],
   "source": [
    "algorithms = ['Linear Regression','SVM' ,'KNN','DT','RF','XGB']\n",
    "scores = [lg_scorde,svm_scorde,knn_scorde,dt_scorde,rf_scorde,xgb_scorde]\n",
    "\n",
    "# Plotting the bar graph \n",
    "plt.figure(figsize=(10, 5))\n",
    "plt.bar(algorithms, scores, color=['black', 'brown', 'gray', 'orange', 'red','blue'])\n",
    "plt.xlabel(\"Algorithms\")\n",
    "plt.ylabel(\"R2score\")\n",
    "plt.title(\"Performance Analysis of Different Regression Algorithms\")\n",
    "plt.ylim(0, max(scores) + 1) \n",
    "plt.grid(axis='y',alpha=0.5)\n",
    "plt.show()"
   ]
  },
  {
   "cell_type": "markdown",
   "id": "e10b79ce-7bb0-4216-931a-ec2a3b5ae668",
   "metadata": {},
   "source": [
    "The model with the highest accuracy score is Random Forest with an accuracy of 96"
   ]
  },
  {
   "cell_type": "markdown",
   "id": "d761c50a-2986-4576-a82f-d2bd6efe1b76",
   "metadata": {},
   "source": [
    "# Prediction"
   ]
  },
  {
   "cell_type": "code",
   "execution_count": 148,
   "id": "ff5bf72f-d1e1-4ca0-96a2-708adc7d45fc",
   "metadata": {},
   "outputs": [
    {
     "data": {
      "text/html": [
       "<div>\n",
       "<style scoped>\n",
       "    .dataframe tbody tr th:only-of-type {\n",
       "        vertical-align: middle;\n",
       "    }\n",
       "\n",
       "    .dataframe tbody tr th {\n",
       "        vertical-align: top;\n",
       "    }\n",
       "\n",
       "    .dataframe thead th {\n",
       "        text-align: right;\n",
       "    }\n",
       "</style>\n",
       "<table border=\"1\" class=\"dataframe\">\n",
       "  <thead>\n",
       "    <tr style=\"text-align: right;\">\n",
       "      <th></th>\n",
       "      <th>DateTime</th>\n",
       "      <th>Junction</th>\n",
       "      <th>Vehicles</th>\n",
       "      <th>ID</th>\n",
       "    </tr>\n",
       "  </thead>\n",
       "  <tbody>\n",
       "    <tr>\n",
       "      <th>0</th>\n",
       "      <td>0</td>\n",
       "      <td>1</td>\n",
       "      <td>15</td>\n",
       "      <td>20151101001</td>\n",
       "    </tr>\n",
       "    <tr>\n",
       "      <th>1</th>\n",
       "      <td>1</td>\n",
       "      <td>1</td>\n",
       "      <td>13</td>\n",
       "      <td>20151101011</td>\n",
       "    </tr>\n",
       "    <tr>\n",
       "      <th>2</th>\n",
       "      <td>2</td>\n",
       "      <td>1</td>\n",
       "      <td>10</td>\n",
       "      <td>20151101021</td>\n",
       "    </tr>\n",
       "    <tr>\n",
       "      <th>3</th>\n",
       "      <td>3</td>\n",
       "      <td>1</td>\n",
       "      <td>7</td>\n",
       "      <td>20151101031</td>\n",
       "    </tr>\n",
       "    <tr>\n",
       "      <th>4</th>\n",
       "      <td>4</td>\n",
       "      <td>1</td>\n",
       "      <td>9</td>\n",
       "      <td>20151101041</td>\n",
       "    </tr>\n",
       "  </tbody>\n",
       "</table>\n",
       "</div>"
      ],
      "text/plain": [
       "   DateTime  Junction  Vehicles           ID\n",
       "0         0         1        15  20151101001\n",
       "1         1         1        13  20151101011\n",
       "2         2         1        10  20151101021\n",
       "3         3         1         7  20151101031\n",
       "4         4         1         9  20151101041"
      ]
     },
     "execution_count": 148,
     "metadata": {},
     "output_type": "execute_result"
    }
   ],
   "source": [
    "df.head()"
   ]
  },
  {
   "cell_type": "code",
   "execution_count": 149,
   "id": "d41c5001-20df-470d-9be5-fb9292130e86",
   "metadata": {},
   "outputs": [
    {
     "data": {
      "text/html": [
       "<div>\n",
       "<style scoped>\n",
       "    .dataframe tbody tr th:only-of-type {\n",
       "        vertical-align: middle;\n",
       "    }\n",
       "\n",
       "    .dataframe tbody tr th {\n",
       "        vertical-align: top;\n",
       "    }\n",
       "\n",
       "    .dataframe thead th {\n",
       "        text-align: right;\n",
       "    }\n",
       "</style>\n",
       "<table border=\"1\" class=\"dataframe\">\n",
       "  <thead>\n",
       "    <tr style=\"text-align: right;\">\n",
       "      <th></th>\n",
       "      <th>DateTime</th>\n",
       "      <th>Junction</th>\n",
       "      <th>ID</th>\n",
       "    </tr>\n",
       "  </thead>\n",
       "  <tbody>\n",
       "    <tr>\n",
       "      <th>9880</th>\n",
       "      <td>0.677130</td>\n",
       "      <td>0.000000</td>\n",
       "      <td>0.517950</td>\n",
       "    </tr>\n",
       "    <tr>\n",
       "      <th>32057</th>\n",
       "      <td>0.196902</td>\n",
       "      <td>0.666667</td>\n",
       "      <td>0.467359</td>\n",
       "    </tr>\n",
       "    <tr>\n",
       "      <th>9291</th>\n",
       "      <td>0.636762</td>\n",
       "      <td>0.000000</td>\n",
       "      <td>0.513130</td>\n",
       "    </tr>\n",
       "    <tr>\n",
       "      <th>39910</th>\n",
       "      <td>0.735111</td>\n",
       "      <td>0.666667</td>\n",
       "      <td>0.973885</td>\n",
       "    </tr>\n",
       "    <tr>\n",
       "      <th>41729</th>\n",
       "      <td>0.859777</td>\n",
       "      <td>0.666667</td>\n",
       "      <td>0.988527</td>\n",
       "    </tr>\n",
       "  </tbody>\n",
       "</table>\n",
       "</div>"
      ],
      "text/plain": [
       "       DateTime  Junction        ID\n",
       "9880   0.677130  0.000000  0.517950\n",
       "32057  0.196902  0.666667  0.467359\n",
       "9291   0.636762  0.000000  0.513130\n",
       "39910  0.735111  0.666667  0.973885\n",
       "41729  0.859777  0.666667  0.988527"
      ]
     },
     "execution_count": 149,
     "metadata": {},
     "output_type": "execute_result"
    }
   ],
   "source": [
    "x_train.head()"
   ]
  },
  {
   "cell_type": "code",
   "execution_count": 150,
   "id": "cba54a1c-684a-49e0-bd62-9ccc68972eb7",
   "metadata": {},
   "outputs": [
    {
     "data": {
      "text/plain": [
       "9880     68\n",
       "32057    18\n",
       "9291     43\n",
       "39910    12\n",
       "41729    35\n",
       "Name: Vehicles, dtype: int64"
      ]
     },
     "execution_count": 150,
     "metadata": {},
     "output_type": "execute_result"
    }
   ],
   "source": [
    "y_train.head()"
   ]
  },
  {
   "cell_type": "code",
   "execution_count": 151,
   "id": "7003d971-c064-4ddf-82f9-022cf8bbde1a",
   "metadata": {},
   "outputs": [
    {
     "name": "stderr",
     "output_type": "stream",
     "text": [
      "C:\\Users\\Asus\\anaconda3\\Lib\\site-packages\\sklearn\\base.py:439: UserWarning: X does not have valid feature names, but RandomForestRegressor was fitted with feature names\n",
      "  warnings.warn(\n"
     ]
    },
    {
     "data": {
      "text/plain": [
       "array([67.16])"
      ]
     },
     "execution_count": 151,
     "metadata": {},
     "output_type": "execute_result"
    }
   ],
   "source": [
    "rf_model.predict([[0.677130\t,0.000000,\t0.517950]])"
   ]
  },
  {
   "cell_type": "code",
   "execution_count": 152,
   "id": "a87d4dc8-4f8b-41ce-9a41-4cbcb13c53ae",
   "metadata": {},
   "outputs": [
    {
     "name": "stderr",
     "output_type": "stream",
     "text": [
      "C:\\Users\\Asus\\anaconda3\\Lib\\site-packages\\sklearn\\base.py:439: UserWarning: X does not have valid feature names, but RandomForestRegressor was fitted with feature names\n",
      "  warnings.warn(\n"
     ]
    },
    {
     "data": {
      "text/plain": [
       "array([19.45])"
      ]
     },
     "execution_count": 152,
     "metadata": {},
     "output_type": "execute_result"
    }
   ],
   "source": [
    "rf_model.predict([[0.196902,\t0.666667,\t0.467359]])"
   ]
  },
  {
   "cell_type": "code",
   "execution_count": 153,
   "id": "19463e63-601e-4a88-a051-9e17a38c6b77",
   "metadata": {},
   "outputs": [
    {
     "name": "stderr",
     "output_type": "stream",
     "text": [
      "C:\\Users\\Asus\\anaconda3\\Lib\\site-packages\\sklearn\\base.py:439: UserWarning: X does not have valid feature names, but RandomForestRegressor was fitted with feature names\n",
      "  warnings.warn(\n"
     ]
    },
    {
     "data": {
      "text/plain": [
       "array([42.74])"
      ]
     },
     "execution_count": 153,
     "metadata": {},
     "output_type": "execute_result"
    }
   ],
   "source": [
    "rf_model.predict([[0.636762,\t0.000000,\t0.513130]])"
   ]
  },
  {
   "cell_type": "code",
   "execution_count": 154,
   "id": "188f2d43-8178-4fa8-9933-d34df9ea97e7",
   "metadata": {},
   "outputs": [
    {
     "name": "stderr",
     "output_type": "stream",
     "text": [
      "C:\\Users\\Asus\\anaconda3\\Lib\\site-packages\\sklearn\\base.py:439: UserWarning: X does not have valid feature names, but RandomForestRegressor was fitted with feature names\n",
      "  warnings.warn(\n"
     ]
    },
    {
     "data": {
      "text/plain": [
       "array([13.56])"
      ]
     },
     "execution_count": 154,
     "metadata": {},
     "output_type": "execute_result"
    }
   ],
   "source": [
    "rf_model.predict([[0.735111,\t0.666667,\t0.973885]])"
   ]
  },
  {
   "cell_type": "markdown",
   "id": "37d34244-9e1f-441b-81b3-da5b2fa047d5",
   "metadata": {},
   "source": [
    "# Traffic Flow Detection Process\n",
    "\n",
    "## 1.Data Collection\n",
    "The traffic quality detection dataset includes various attributes related to traffic conditions. Each row represents a traffic observation, and each column corresponds to a feature that influences overall traffic quality.\n",
    "## 2.Data Preprocessing\n",
    "Before training the models, the dataset was preprocessed, including handling missing values, converting categorical variables, and splitting the data into training and test sets to ensure robust evaluation.\n",
    "## 3.Feature Selection\n",
    "The following features were selected for model training:\n",
    "\n",
    "- **DateTime**: The timestamp of the traffic observation.\n",
    "- **Junction**: The identifier for the specific traffic junction.\n",
    "- **Vehicles**: The count of vehicles passing through the junction during the specified time.\n",
    "- **ID**: A unique identifier for each traffic observation.\n",
    "## 4.Model Training\n",
    "Several machine learning models were trained to predict traffic quality. The models used in this task and their performance (accuracy) are as follows:\n",
    "\n",
    "- **Linear Regression** (LR): 53%\n",
    "- **Support Vector Machine** (SVM): 70%\n",
    "- **Decision Tree** (DT): 93%\n",
    "- **K-Nearest Neighbors** (KNN): 95%\n",
    "- **Random Forest** (RF): 96%\n",
    "- **XGBoost** (XGB): 76%\n",
    "## 5.Model Evaluation\n",
    "The performance of each model was evaluated using accuracy scores, which measure the percentage of correct predictions on the test set. The Random Forest model achieved the highest accuracy of 96%, indicating strong performance in classifying traffic quality.\n",
    "\n",
    "## 6.Best Model Selection\n",
    "Based on the evaluation results, Random Forest, with an accuracy of 96%, is identified as the best-performing model for this traffic quality detection task.\n",
    "\n",
    "## Columns in the Dataset\n",
    "Here is a detailed description of the columns used in the traffic quality detection dataset:\n",
    "\n",
    "- **DateTime**: The timestamp of the traffic observation, indicating the date and time.\n",
    "- **Junction**: The identifier for the specific traffic junction where the observation was recorded.\n",
    "- **Vehicles**: The count of vehicles passing through the junction during the specified time period.\n",
    "-  **ID**: A unique identifier for each traffic observation.\n",
    "\n",
    "By analyzing important attributes such as DateTime, Junction, and vehicle counts, machine learning models can classify traffic quality effectively. The Random Forest model is the most effective in this dataset, achieving high classification accuracy.\n",
    "\n"
   ]
  },
  {
   "cell_type": "code",
   "execution_count": null,
   "id": "936896c2-f0a2-4047-ae79-393498685c66",
   "metadata": {},
   "outputs": [],
   "source": []
  }
 ],
 "metadata": {
  "kernelspec": {
   "display_name": "Python 3 (ipykernel)",
   "language": "python",
   "name": "python3"
  },
  "language_info": {
   "codemirror_mode": {
    "name": "ipython",
    "version": 3
   },
   "file_extension": ".py",
   "mimetype": "text/x-python",
   "name": "python",
   "nbconvert_exporter": "python",
   "pygments_lexer": "ipython3",
   "version": "3.11.7"
  }
 },
 "nbformat": 4,
 "nbformat_minor": 5
}
